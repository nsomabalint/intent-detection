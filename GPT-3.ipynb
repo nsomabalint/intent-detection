{
 "cells": [
  {
   "cell_type": "code",
   "execution_count": 7,
   "id": "abb6122b",
   "metadata": {},
   "outputs": [
    {
     "data": {
      "text/plain": [
       "True"
      ]
     },
     "execution_count": 7,
     "metadata": {},
     "output_type": "execute_result"
    }
   ],
   "source": [
    "import os\n",
    "import openai\n",
    "from dotenv import load_dotenv\n",
    "\n",
    "load_dotenv()"
   ]
  },
  {
   "cell_type": "code",
   "execution_count": 9,
   "id": "f9b9675a",
   "metadata": {},
   "outputs": [],
   "source": [
    "openai.api_key = os.getenv(\"OPENAI_API_KEY\")"
   ]
  },
  {
   "cell_type": "code",
   "execution_count": 15,
   "id": "8e5642bf",
   "metadata": {},
   "outputs": [
    {
     "name": "stdout",
     "output_type": "stream",
     "text": [
      "i've lost my card: lostCard\n",
      "can you activate my card?: cardActivation\n",
      "i'd like to activate my card: cardAcivation\n",
      "help! my card is lost: lostCard\n",
      "i can't find my card. i think i've lost it:\n"
     ]
    }
   ],
   "source": [
    "test_prompt = \"\"\"i've lost my card: lostCard\\ncan you activate my card?: cardActivation\\ni'd like to activate my card: cardAcivation\\nhelp! my card is lost: lostCard\\ni can't find my card. i think i've lost it:\"\"\"\n",
    "\n",
    "print(test_prompt)"
   ]
  },
  {
   "cell_type": "code",
   "execution_count": 16,
   "id": "c0fb8b9a",
   "metadata": {},
   "outputs": [],
   "source": [
    "response = openai.Completion.create(engine=\"text-ada-001\",\n",
    "                                    prompt=test_prompt,\n",
    "                                    temperature=0,\n",
    "                                    max_tokens=3)"
   ]
  },
  {
   "cell_type": "code",
   "execution_count": 17,
   "id": "86bee525",
   "metadata": {},
   "outputs": [
    {
     "data": {
      "text/plain": [
       "<OpenAIObject text_completion id=cmpl-584jbypAyf8yDdbQfZ7jfD5EQQUcg at 0x7feed36abe00> JSON: {\n",
       "  \"choices\": [\n",
       "    {\n",
       "      \"finish_reason\": \"stop\",\n",
       "      \"index\": 0,\n",
       "      \"logprobs\": null,\n",
       "      \"text\": \" lostCard\"\n",
       "    }\n",
       "  ],\n",
       "  \"created\": 1652606507,\n",
       "  \"id\": \"cmpl-584jbypAyf8yDdbQfZ7jfD5EQQUcg\",\n",
       "  \"model\": \"text-ada-001\",\n",
       "  \"object\": \"text_completion\"\n",
       "}"
      ]
     },
     "execution_count": 17,
     "metadata": {},
     "output_type": "execute_result"
    }
   ],
   "source": [
    "response"
   ]
  },
  {
   "cell_type": "code",
   "execution_count": null,
   "id": "b3583563",
   "metadata": {},
   "outputs": [],
   "source": []
  }
 ],
 "metadata": {
  "kernelspec": {
   "display_name": "Python 3 (ipykernel)",
   "language": "python",
   "name": "python3"
  },
  "language_info": {
   "codemirror_mode": {
    "name": "ipython",
    "version": 3
   },
   "file_extension": ".py",
   "mimetype": "text/x-python",
   "name": "python",
   "nbconvert_exporter": "python",
   "pygments_lexer": "ipython3",
   "version": "3.8.5"
  }
 },
 "nbformat": 4,
 "nbformat_minor": 5
}
