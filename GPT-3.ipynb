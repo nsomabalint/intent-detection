{
 "cells": [
  {
   "cell_type": "code",
   "execution_count": 127,
   "id": "abb6122b",
   "metadata": {},
   "outputs": [
    {
     "data": {
      "text/plain": [
       "True"
      ]
     },
     "execution_count": 127,
     "metadata": {},
     "output_type": "execute_result"
    }
   ],
   "source": [
    "import os\n",
    "import json\n",
    "import openai\n",
    "import wandb\n",
    "import pandas as pd\n",
    "from tqdm import tqdm\n",
    "from time import sleep\n",
    "from dotenv import load_dotenv\n",
    "from sklearn.metrics import accuracy_score, classification_report, f1_score\n",
    "\n",
    "load_dotenv()"
   ]
  },
  {
   "cell_type": "code",
   "execution_count": 113,
   "id": "933e6c5a",
   "metadata": {},
   "outputs": [],
   "source": [
    "openai.api_key = os.getenv(\"OPENAI_API_KEY\")"
   ]
  },
  {
   "cell_type": "code",
   "execution_count": 15,
   "id": "4380d06f",
   "metadata": {},
   "outputs": [
    {
     "name": "stdout",
     "output_type": "stream",
     "text": [
      "i've lost my card: lostCard\n",
      "can you activate my card?: cardActivation\n",
      "i'd like to activate my card: cardAcivation\n",
      "help! my card is lost: lostCard\n",
      "i can't find my card. i think i've lost it:\n"
     ]
    }
   ],
   "source": [
    "test_prompt = \"\"\"i've lost my card: lostCard\\ncan you activate my card?: cardActivation\\ni'd like to activate my card: cardAcivation\\nhelp! my card is lost: lostCard\\ni can't find my card. i think i've lost it:\"\"\"\n",
    "\n",
    "print(test_prompt)"
   ]
  },
  {
   "cell_type": "code",
   "execution_count": 16,
   "id": "aee3195d",
   "metadata": {},
   "outputs": [],
   "source": [
    "response = openai.Completion.create(engine=\"text-ada-001\",\n",
    "                                    prompt=test_prompt,\n",
    "                                    temperature=0,\n",
    "                                    max_tokens=3)"
   ]
  },
  {
   "cell_type": "code",
   "execution_count": 17,
   "id": "ffb1e09f",
   "metadata": {},
   "outputs": [
    {
     "data": {
      "text/plain": [
       "<OpenAIObject text_completion id=cmpl-584jbypAyf8yDdbQfZ7jfD5EQQUcg at 0x7feed36abe00> JSON: {\n",
       "  \"choices\": [\n",
       "    {\n",
       "      \"finish_reason\": \"stop\",\n",
       "      \"index\": 0,\n",
       "      \"logprobs\": null,\n",
       "      \"text\": \" lostCard\"\n",
       "    }\n",
       "  ],\n",
       "  \"created\": 1652606507,\n",
       "  \"id\": \"cmpl-584jbypAyf8yDdbQfZ7jfD5EQQUcg\",\n",
       "  \"model\": \"text-ada-001\",\n",
       "  \"object\": \"text_completion\"\n",
       "}"
      ]
     },
     "execution_count": 17,
     "metadata": {},
     "output_type": "execute_result"
    }
   ],
   "source": [
    "response"
   ]
  },
  {
   "cell_type": "markdown",
   "id": "845c3c56",
   "metadata": {},
   "source": [
    "## Create classification -- FS10"
   ]
  },
  {
   "cell_type": "code",
   "execution_count": 18,
   "id": "6b68b1ce",
   "metadata": {},
   "outputs": [],
   "source": [
    "from utils.data_utils import load_dataset_df"
   ]
  },
  {
   "cell_type": "code",
   "execution_count": 19,
   "id": "5e2d0141",
   "metadata": {},
   "outputs": [],
   "source": [
    "df = load_dataset_df()"
   ]
  },
  {
   "cell_type": "code",
   "execution_count": 27,
   "id": "923effb2",
   "metadata": {},
   "outputs": [
    {
     "data": {
      "text/plain": [
       "129024.5"
      ]
     },
     "execution_count": 27,
     "metadata": {},
     "output_type": "execute_result"
    }
   ],
   "source": [
    "sum(df[df.ds_name == 'train'].text.str.len()) / 4"
   ]
  },
  {
   "cell_type": "code",
   "execution_count": 39,
   "id": "aa24cdd2",
   "metadata": {},
   "outputs": [],
   "source": [
    "train_sentences = df[df.ds_name == 'train'].groupby(\"intent\").text.apply(list).apply(lambda x: x[:10])"
   ]
  },
  {
   "cell_type": "code",
   "execution_count": 40,
   "id": "e7e00b52",
   "metadata": {},
   "outputs": [
    {
     "data": {
      "text/plain": [
       "11179.0"
      ]
     },
     "execution_count": 40,
     "metadata": {},
     "output_type": "execute_result"
    }
   ],
   "source": [
    "sum(train_sentences.apply(lambda x: sum([len(sent) for sent in x]))) / 4"
   ]
  },
  {
   "cell_type": "code",
   "execution_count": 49,
   "id": "967d2519",
   "metadata": {},
   "outputs": [
    {
     "data": {
      "text/plain": [
       "intent\n",
       "Refund_not_showing_up                      [who should i contact if my refund doesn't go ...\n",
       "activate_my_card                           [i want to activate the card., i need info on ...\n",
       "age_limit                                  [can my children get an account?, would i be a...\n",
       "apple_pay_or_google_pay                    [google pay isn't working. what is wrong?, can...\n",
       "atm_support                                [what are the locations i can withdraw money, ...\n",
       "                                                                 ...                        \n",
       "virtual_card_not_working                   [i can't make purchases with my virtual card.,...\n",
       "visa_or_mastercard                         [i want to get a visa and mastercard, is it po...\n",
       "why_verify_identity                        [is verifying my identify important?, can i us...\n",
       "wrong_amount_of_cash_received              [i wanted to withdraw $100 from the atm but i ...\n",
       "wrong_exchange_rate_for_cash_withdrawal    [i was overcharged at an atm while on vacation...\n",
       "Name: text, Length: 77, dtype: object"
      ]
     },
     "execution_count": 49,
     "metadata": {},
     "output_type": "execute_result"
    }
   ],
   "source": [
    "train_sentences"
   ]
  },
  {
   "cell_type": "code",
   "execution_count": 54,
   "id": "87efe486",
   "metadata": {},
   "outputs": [],
   "source": [
    "transformed_res = []\n",
    "\n",
    "for intent, sents in train_sentences.iteritems():\n",
    "    for sent in sents:\n",
    "        transformed_res.append({\"text\": sent, \"label\": intent.capitalize()})"
   ]
  },
  {
   "cell_type": "code",
   "execution_count": 55,
   "id": "bb5d7135",
   "metadata": {},
   "outputs": [
    {
     "data": {
      "text/plain": [
       "770"
      ]
     },
     "execution_count": 55,
     "metadata": {},
     "output_type": "execute_result"
    }
   ],
   "source": [
    "len(transformed_res)"
   ]
  },
  {
   "cell_type": "code",
   "execution_count": 58,
   "id": "24e6c164",
   "metadata": {},
   "outputs": [
    {
     "name": "stdout",
     "output_type": "stream",
     "text": [
      "{'text': \"who should i contact if my refund doesn't go through?\", 'label': 'Refund_not_showing_up'}\n"
     ]
    }
   ],
   "source": [
    "print(str(transformed_res[0]))"
   ]
  },
  {
   "cell_type": "code",
   "execution_count": 60,
   "id": "528e1e82",
   "metadata": {},
   "outputs": [],
   "source": [
    "rewrite = False\n",
    "\n",
    "if rewrite:\n",
    "\n",
    "    with open(\"train_few_shot_10.jsonl\", \"w\") as f:\n",
    "        for entry in transformed_res:\n",
    "            json.dump(entry, f)\n",
    "            f.write('\\n')"
   ]
  },
  {
   "cell_type": "code",
   "execution_count": 62,
   "id": "e0bcb783",
   "metadata": {},
   "outputs": [
    {
     "name": "stdout",
     "output_type": "stream",
     "text": [
      "{\n",
      "  \"bytes\": 80490,\n",
      "  \"created_at\": 1652608487,\n",
      "  \"filename\": \"file\",\n",
      "  \"id\": \"file-QJ6HkMO6DbnP1sD3M1gOctvU\",\n",
      "  \"object\": \"file\",\n",
      "  \"purpose\": \"classifications\",\n",
      "  \"status\": \"uploaded\",\n",
      "  \"status_details\": null\n",
      "}\n"
     ]
    }
   ],
   "source": [
    "retrain = False\n",
    "\n",
    "if retrain:\n",
    "\n",
    "    res = openai.File.create(file=open(\"train_few_shot_10.jsonl\"), purpose=\"classifications\")\n",
    "    print(res)"
   ]
  },
  {
   "cell_type": "code",
   "execution_count": 64,
   "id": "0ce2b44b",
   "metadata": {},
   "outputs": [
    {
     "data": {
      "text/html": [
       "<div>\n",
       "<style scoped>\n",
       "    .dataframe tbody tr th:only-of-type {\n",
       "        vertical-align: middle;\n",
       "    }\n",
       "\n",
       "    .dataframe tbody tr th {\n",
       "        vertical-align: top;\n",
       "    }\n",
       "\n",
       "    .dataframe thead th {\n",
       "        text-align: right;\n",
       "    }\n",
       "</style>\n",
       "<table border=\"1\" class=\"dataframe\">\n",
       "  <thead>\n",
       "    <tr style=\"text-align: right;\">\n",
       "      <th></th>\n",
       "      <th>text</th>\n",
       "      <th>intent</th>\n",
       "      <th>ds_name</th>\n",
       "    </tr>\n",
       "  </thead>\n",
       "  <tbody>\n",
       "    <tr>\n",
       "      <th>7</th>\n",
       "      <td>my card isn't working</td>\n",
       "      <td>card_not_working</td>\n",
       "      <td>test</td>\n",
       "    </tr>\n",
       "    <tr>\n",
       "      <th>11</th>\n",
       "      <td>after the transfer, the balance did not update.</td>\n",
       "      <td>balance_not_updated_after_bank_transfer</td>\n",
       "      <td>test</td>\n",
       "    </tr>\n",
       "    <tr>\n",
       "      <th>16</th>\n",
       "      <td>i tried to make a transfer to a beneficiary an...</td>\n",
       "      <td>beneficiary_not_allowed</td>\n",
       "      <td>test</td>\n",
       "    </tr>\n",
       "    <tr>\n",
       "      <th>18</th>\n",
       "      <td>i would like to change my pin.</td>\n",
       "      <td>change_pin</td>\n",
       "      <td>test</td>\n",
       "    </tr>\n",
       "    <tr>\n",
       "      <th>23</th>\n",
       "      <td>i need to make an immediate cancellation relat...</td>\n",
       "      <td>cancel_transfer</td>\n",
       "      <td>test</td>\n",
       "    </tr>\n",
       "  </tbody>\n",
       "</table>\n",
       "</div>"
      ],
      "text/plain": [
       "                                                 text  ... ds_name\n",
       "7                               my card isn't working  ...    test\n",
       "11    after the transfer, the balance did not update.  ...    test\n",
       "16  i tried to make a transfer to a beneficiary an...  ...    test\n",
       "18                     i would like to change my pin.  ...    test\n",
       "23  i need to make an immediate cancellation relat...  ...    test\n",
       "\n",
       "[5 rows x 3 columns]"
      ]
     },
     "execution_count": 64,
     "metadata": {},
     "output_type": "execute_result"
    }
   ],
   "source": [
    "df[df.ds_name == 'test'].head()"
   ]
  },
  {
   "cell_type": "code",
   "execution_count": 68,
   "id": "2e4bf412",
   "metadata": {},
   "outputs": [
    {
     "name": "stdout",
     "output_type": "stream",
     "text": [
      "{\n",
      "  \"completion\": \"cmpl-585NOovjf7Zzl1CHGrg1WUqHcLybs\",\n",
      "  \"file\": \"file-QJ6HkMO6DbnP1sD3M1gOctvU\",\n",
      "  \"label\": \"Card_not_working\",\n",
      "  \"model\": \"ada\",\n",
      "  \"object\": \"classification\",\n",
      "  \"search_model\": \"ada:2020-05-03\",\n",
      "  \"selected_examples\": [\n",
      "    {\n",
      "      \"document\": 2,\n",
      "      \"label\": \"Card_not_working\",\n",
      "      \"object\": \"search_result\",\n",
      "      \"score\": 270.448,\n",
      "      \"text\": \"what to do if my physical card is not working?\"\n",
      "    },\n",
      "    {\n",
      "      \"document\": 3,\n",
      "      \"label\": \"Virtual_card_not_working\",\n",
      "      \"object\": \"search_result\",\n",
      "      \"score\": 211.841,\n",
      "      \"text\": \"this disposable virtual card is not working.\"\n",
      "    },\n",
      "    {\n",
      "      \"document\": 1,\n",
      "      \"label\": \"Top_up_reverted\",\n",
      "      \"object\": \"search_result\",\n",
      "      \"score\": 132.198,\n",
      "      \"text\": \"why isn't top-up working? my top-up money disappeared after i saw that it was successfully transferred. is it gone? where did it go?\"\n",
      "    },\n",
      "    {\n",
      "      \"document\": 0,\n",
      "      \"label\": \"Apple_pay_or_google_pay\",\n",
      "      \"object\": \"search_result\",\n",
      "      \"score\": 142.071,\n",
      "      \"text\": \"google pay isn't working. what is wrong?\"\n",
      "    },\n",
      "    {\n",
      "      \"document\": 4,\n",
      "      \"label\": \"Virtual_card_not_working\",\n",
      "      \"object\": \"search_result\",\n",
      "      \"score\": 216.716,\n",
      "      \"text\": \"help me get the virtual card working.\"\n",
      "    }\n",
      "  ]\n",
      "}\n"
     ]
    }
   ],
   "source": [
    "file_id = \"file-QJ6HkMO6DbnP1sD3M1gOctvU\"\n",
    "\n",
    "result = openai.Classification.create(\n",
    "    file=file_id,\n",
    "    query=\"my card isn't working\",\n",
    "    search_model=\"ada\", \n",
    "    model=\"ada\", \n",
    "    max_examples=5\n",
    ")\n",
    "\n",
    "print(result)"
   ]
  },
  {
   "cell_type": "code",
   "execution_count": 76,
   "id": "6fe1ed33",
   "metadata": {},
   "outputs": [
    {
     "data": {
      "text/html": [
       "<div>\n",
       "<style scoped>\n",
       "    .dataframe tbody tr th:only-of-type {\n",
       "        vertical-align: middle;\n",
       "    }\n",
       "\n",
       "    .dataframe tbody tr th {\n",
       "        vertical-align: top;\n",
       "    }\n",
       "\n",
       "    .dataframe thead th {\n",
       "        text-align: right;\n",
       "    }\n",
       "</style>\n",
       "<table border=\"1\" class=\"dataframe\">\n",
       "  <thead>\n",
       "    <tr style=\"text-align: right;\">\n",
       "      <th></th>\n",
       "      <th>text</th>\n",
       "      <th>intent</th>\n",
       "      <th>ds_name</th>\n",
       "    </tr>\n",
       "  </thead>\n",
       "  <tbody>\n",
       "    <tr>\n",
       "      <th>6527</th>\n",
       "      <td>how can i see where my money comes from?</td>\n",
       "      <td>verify_source_of_funds</td>\n",
       "      <td>test</td>\n",
       "    </tr>\n",
       "    <tr>\n",
       "      <th>6388</th>\n",
       "      <td>i need the source of my funds verified. how do...</td>\n",
       "      <td>verify_source_of_funds</td>\n",
       "      <td>test</td>\n",
       "    </tr>\n",
       "    <tr>\n",
       "      <th>11631</th>\n",
       "      <td>why does my money come from?</td>\n",
       "      <td>verify_source_of_funds</td>\n",
       "      <td>test</td>\n",
       "    </tr>\n",
       "    <tr>\n",
       "      <th>3588</th>\n",
       "      <td>what do i need to do to verify the source of m...</td>\n",
       "      <td>verify_source_of_funds</td>\n",
       "      <td>test</td>\n",
       "    </tr>\n",
       "    <tr>\n",
       "      <th>5295</th>\n",
       "      <td>can i verify the source of my funds?</td>\n",
       "      <td>verify_source_of_funds</td>\n",
       "      <td>test</td>\n",
       "    </tr>\n",
       "    <tr>\n",
       "      <th>2592</th>\n",
       "      <td>i would like to verify the source of my money</td>\n",
       "      <td>verify_source_of_funds</td>\n",
       "      <td>test</td>\n",
       "    </tr>\n",
       "    <tr>\n",
       "      <th>7494</th>\n",
       "      <td>what is the source of my funds.</td>\n",
       "      <td>verify_source_of_funds</td>\n",
       "      <td>test</td>\n",
       "    </tr>\n",
       "    <tr>\n",
       "      <th>5808</th>\n",
       "      <td>how can i check the source of funds?</td>\n",
       "      <td>verify_source_of_funds</td>\n",
       "      <td>test</td>\n",
       "    </tr>\n",
       "    <tr>\n",
       "      <th>5589</th>\n",
       "      <td>how do i become aware of where my funds come f...</td>\n",
       "      <td>verify_source_of_funds</td>\n",
       "      <td>test</td>\n",
       "    </tr>\n",
       "    <tr>\n",
       "      <th>10425</th>\n",
       "      <td>how can i check the source for my funds?</td>\n",
       "      <td>verify_source_of_funds</td>\n",
       "      <td>test</td>\n",
       "    </tr>\n",
       "    <tr>\n",
       "      <th>1260</th>\n",
       "      <td>my card payment is still on hold, why is it so?</td>\n",
       "      <td>pending_card_payment</td>\n",
       "      <td>test</td>\n",
       "    </tr>\n",
       "  </tbody>\n",
       "</table>\n",
       "</div>"
      ],
      "text/plain": [
       "                                                    text  ... ds_name\n",
       "6527            how can i see where my money comes from?  ...    test\n",
       "6388   i need the source of my funds verified. how do...  ...    test\n",
       "11631                       why does my money come from?  ...    test\n",
       "3588   what do i need to do to verify the source of m...  ...    test\n",
       "5295                can i verify the source of my funds?  ...    test\n",
       "2592       i would like to verify the source of my money  ...    test\n",
       "7494                     what is the source of my funds.  ...    test\n",
       "5808                how can i check the source of funds?  ...    test\n",
       "5589   how do i become aware of where my funds come f...  ...    test\n",
       "10425           how can i check the source for my funds?  ...    test\n",
       "1260     my card payment is still on hold, why is it so?  ...    test\n",
       "\n",
       "[11 rows x 3 columns]"
      ]
     },
     "execution_count": 76,
     "metadata": {},
     "output_type": "execute_result"
    }
   ],
   "source": [
    "intents = list(df.intent.unique())\n",
    "\n",
    "test_subset_list = []\n",
    "for intent in intents:\n",
    "    sub_df = df[(df.ds_name == 'test') & (df.intent == intent)].sample(10)\n",
    "    test_subset_list.append(sub_df)\n",
    "    \n",
    "sub_test_set = pd.concat(test_subset_list)\n",
    "sub_test_set.head(11)"
   ]
  },
  {
   "cell_type": "code",
   "execution_count": 119,
   "id": "35ef62a7",
   "metadata": {},
   "outputs": [],
   "source": [
    "sub_test_set.to_json(\"dataset/sub_test_set.json\")"
   ]
  },
  {
   "cell_type": "code",
   "execution_count": 87,
   "id": "cd8287a3",
   "metadata": {},
   "outputs": [],
   "source": [
    "def classify_fs10(text):\n",
    "    file_id = \"file-QJ6HkMO6DbnP1sD3M1gOctvU\"\n",
    "\n",
    "    result = openai.Classification.create(\n",
    "        file=file_id,\n",
    "        query=text,\n",
    "        search_model=\"ada\", \n",
    "        model=\"ada\", \n",
    "        max_examples=5\n",
    "    )\n",
    "        \n",
    "    return result"
   ]
  },
  {
   "cell_type": "code",
   "execution_count": 97,
   "id": "f66c4cac",
   "metadata": {},
   "outputs": [
    {
     "name": "stderr",
     "output_type": "stream",
     "text": [
      "770it [58:15,  4.54s/it]\n"
     ]
    }
   ],
   "source": [
    "prediction_responses = []\n",
    "\n",
    "for i, rec in tqdm(sub_test_set.iterrows()):\n",
    "    text = rec.text\n",
    "    orig_intent = rec.intent\n",
    "    \n",
    "    pred_response = classify_fs10(text)\n",
    "    sleep(2)\n",
    "    \n",
    "    prediction_responses.append({\n",
    "        \"query_text\": text,\n",
    "        \"true_intent\": orig_intent,\n",
    "        \"pred_resp\": pred_response\n",
    "    })"
   ]
  },
  {
   "cell_type": "code",
   "execution_count": 102,
   "id": "a9401836",
   "metadata": {},
   "outputs": [
    {
     "data": {
      "text/html": [
       "<div>\n",
       "<style scoped>\n",
       "    .dataframe tbody tr th:only-of-type {\n",
       "        vertical-align: middle;\n",
       "    }\n",
       "\n",
       "    .dataframe tbody tr th {\n",
       "        vertical-align: top;\n",
       "    }\n",
       "\n",
       "    .dataframe thead th {\n",
       "        text-align: right;\n",
       "    }\n",
       "</style>\n",
       "<table border=\"1\" class=\"dataframe\">\n",
       "  <thead>\n",
       "    <tr style=\"text-align: right;\">\n",
       "      <th></th>\n",
       "      <th>query_text</th>\n",
       "      <th>true_intent</th>\n",
       "      <th>pred_resp</th>\n",
       "      <th>pred_intent</th>\n",
       "    </tr>\n",
       "  </thead>\n",
       "  <tbody>\n",
       "    <tr>\n",
       "      <th>0</th>\n",
       "      <td>how can i see where my money comes from?</td>\n",
       "      <td>Verify_source_of_funds</td>\n",
       "      <td>{'completion': 'cmpl-585zu4z3uhktf6W39HDhp9DCi...</td>\n",
       "      <td>Wrong_amount_of_cash_received</td>\n",
       "    </tr>\n",
       "    <tr>\n",
       "      <th>1</th>\n",
       "      <td>i need the source of my funds verified. how do...</td>\n",
       "      <td>Verify_source_of_funds</td>\n",
       "      <td>{'completion': 'cmpl-585zymSbu6rTMBMD5eHUyUR7r...</td>\n",
       "      <td>Verify_source_of_funds</td>\n",
       "    </tr>\n",
       "    <tr>\n",
       "      <th>2</th>\n",
       "      <td>why does my money come from?</td>\n",
       "      <td>Verify_source_of_funds</td>\n",
       "      <td>{'completion': 'cmpl-5860383EdxIrOi4RuZMPPse12...</td>\n",
       "      <td>Declined_cash_withdrawal</td>\n",
       "    </tr>\n",
       "    <tr>\n",
       "      <th>3</th>\n",
       "      <td>what do i need to do to verify the source of m...</td>\n",
       "      <td>Verify_source_of_funds</td>\n",
       "      <td>{'completion': 'cmpl-58608bhMmqfVdJNSbdRrTkNjd...</td>\n",
       "      <td>Verify_source_of_funds</td>\n",
       "    </tr>\n",
       "    <tr>\n",
       "      <th>4</th>\n",
       "      <td>can i verify the source of my funds?</td>\n",
       "      <td>Verify_source_of_funds</td>\n",
       "      <td>{'completion': 'cmpl-5860C7i1rK5ndjStBaakdVgm6...</td>\n",
       "      <td>Verify_source_of_funds</td>\n",
       "    </tr>\n",
       "  </tbody>\n",
       "</table>\n",
       "</div>"
      ],
      "text/plain": [
       "                                          query_text  ...                    pred_intent\n",
       "0           how can i see where my money comes from?  ...  Wrong_amount_of_cash_received\n",
       "1  i need the source of my funds verified. how do...  ...         Verify_source_of_funds\n",
       "2                       why does my money come from?  ...       Declined_cash_withdrawal\n",
       "3  what do i need to do to verify the source of m...  ...         Verify_source_of_funds\n",
       "4               can i verify the source of my funds?  ...         Verify_source_of_funds\n",
       "\n",
       "[5 rows x 4 columns]"
      ]
     },
     "execution_count": 102,
     "metadata": {},
     "output_type": "execute_result"
    }
   ],
   "source": [
    "res_df = pd.DataFrame(prediction_responses)\n",
    "res_df['true_intent'] = res_df['true_intent'].str.capitalize()\n",
    "res_df['pred_intent'] = res_df.pred_resp.apply(lambda x: x['label'])\n",
    "res_df.head()"
   ]
  },
  {
   "cell_type": "code",
   "execution_count": 106,
   "id": "480925ee",
   "metadata": {},
   "outputs": [
    {
     "data": {
      "text/plain": [
       "0.4857142857142857"
      ]
     },
     "execution_count": 106,
     "metadata": {},
     "output_type": "execute_result"
    }
   ],
   "source": [
    "accuracy_score(res_df['true_intent'].tolist(), res_df['pred_intent'].tolist())"
   ]
  },
  {
   "cell_type": "code",
   "execution_count": 107,
   "id": "f67736f7",
   "metadata": {},
   "outputs": [
    {
     "name": "stdout",
     "output_type": "stream",
     "text": [
      "                                                  precision    recall  f1-score   support\n",
      "\n",
      "                                Activate_my_card       1.00      0.40      0.57        10\n",
      "                                       Age_limit       1.00      0.80      0.89        10\n",
      "                         Apple_pay_or_google_pay       0.64      0.90      0.75        10\n",
      "                                     Atm_support       0.86      0.60      0.71        10\n",
      "                                Automatic_top_up       0.86      0.60      0.71        10\n",
      "         Balance_not_updated_after_bank_transfer       0.42      0.50      0.45        10\n",
      "Balance_not_updated_after_cheque_or_cash_deposit       0.50      0.10      0.17        10\n",
      "                         Beneficiary_not_allowed       1.00      0.20      0.33        10\n",
      "                                 Cancel_transfer       0.75      0.60      0.67        10\n",
      "                            Card_about_to_expire       0.75      0.60      0.67        10\n",
      "                                 Card_acceptance       0.75      0.60      0.67        10\n",
      "                                    Card_arrival       0.33      0.20      0.25        10\n",
      "                          Card_delivery_estimate       0.60      0.60      0.60        10\n",
      "                                    Card_linking       0.50      0.70      0.58        10\n",
      "                                Card_not_working       0.25      0.40      0.31        10\n",
      "                        Card_payment_fee_charged       0.45      0.50      0.48        10\n",
      "                     Card_payment_not_recognised       0.44      0.40      0.42        10\n",
      "                Card_payment_wrong_exchange_rate       0.58      0.70      0.64        10\n",
      "                                  Card_swallowed       0.57      0.40      0.47        10\n",
      "                          Cash_withdrawal_charge       0.46      0.60      0.52        10\n",
      "                  Cash_withdrawal_not_recognised       0.33      0.10      0.15        10\n",
      "                                      Change_pin       0.78      0.70      0.74        10\n",
      "                                Compromised_card       0.00      0.00      0.00        10\n",
      "                         Contactless_not_working       1.00      0.70      0.82        10\n",
      "                                 Country_support       1.00      0.30      0.46        10\n",
      "                           Declined_card_payment       0.43      0.30      0.35        10\n",
      "                        Declined_cash_withdrawal       0.20      0.20      0.20        10\n",
      "                               Declined_transfer       0.67      0.60      0.63        10\n",
      "             Direct_debit_payment_not_recognised       0.60      0.60      0.60        10\n",
      "                          Disposable_card_limits       1.00      0.60      0.75        10\n",
      "                           Edit_personal_details       1.00      0.60      0.75        10\n",
      "                                 Exchange_charge       0.67      0.40      0.50        10\n",
      "                                   Exchange_rate       0.75      0.30      0.43        10\n",
      "                                Exchange_via_app       0.40      0.20      0.27        10\n",
      "                       Extra_charge_on_statement       1.00      0.70      0.82        10\n",
      "                                 Failed_transfer       0.45      0.50      0.48        10\n",
      "                           Fiat_currency_support       0.67      0.20      0.31        10\n",
      "                     Get_disposable_virtual_card       0.54      0.70      0.61        10\n",
      "                               Get_physical_card       0.73      0.80      0.76        10\n",
      "                              Getting_spare_card       1.00      0.10      0.18        10\n",
      "                            Getting_virtual_card       0.50      0.10      0.17        10\n",
      "                             Lost_or_stolen_card       0.83      0.50      0.62        10\n",
      "                            Lost_or_stolen_phone       0.89      0.80      0.84        10\n",
      "                             Order_physical_card       0.67      0.40      0.50        10\n",
      "                              Passcode_forgotten       0.71      0.50      0.59        10\n",
      "                            Pending_card_payment       0.67      0.60      0.63        10\n",
      "                         Pending_cash_withdrawal       0.50      0.60      0.55        10\n",
      "                                  Pending_top_up       0.89      0.80      0.84        10\n",
      "                                Pending_transfer       0.75      0.30      0.43        10\n",
      "                                     Pin_blocked       1.00      0.60      0.75        10\n",
      "                                 Receiving_money       0.62      0.50      0.56        10\n",
      "                           Refund_not_showing_up       0.60      0.30      0.40        10\n",
      "                                  Request_refund       0.54      0.70      0.61        10\n",
      "                          Reverted_card_payment?       0.38      0.30      0.33        10\n",
      "                  Supported_cards_and_currencies       0.57      0.40      0.47        10\n",
      "                               Terminate_account       0.82      0.90      0.86        10\n",
      "                  Top_up_by_bank_transfer_charge       0.40      0.40      0.40        10\n",
      "                           Top_up_by_card_charge       0.75      0.60      0.67        10\n",
      "                        Top_up_by_cash_or_cheque       1.00      0.30      0.46        10\n",
      "                                   Top_up_failed       0.83      0.50      0.62        10\n",
      "                                   Top_up_limits       0.83      0.50      0.62        10\n",
      "                                 Top_up_reverted       1.00      0.30      0.46        10\n",
      "                              Topping_up_by_card       0.40      0.20      0.27        10\n",
      "                       Transaction_charged_twice       1.00      0.70      0.82        10\n",
      "                            Transfer_fee_charged       0.50      0.50      0.50        10\n",
      "                           Transfer_into_account       0.88      0.70      0.78        10\n",
      "              Transfer_not_received_by_recipient       0.56      0.50      0.53        10\n",
      "                                 Transfer_timing       0.50      0.40      0.44        10\n",
      "                       Unable_to_verify_identity       0.60      0.30      0.40        10\n",
      "                                         Unknown       0.00      0.00      0.00         0\n",
      "                              Verify_my_identity       0.60      0.60      0.60        10\n",
      "                          Verify_source_of_funds       1.00      0.80      0.89        10\n",
      "                                   Verify_top_up       1.00      0.80      0.89        10\n",
      "                        Virtual_card_not_working       0.60      0.30      0.40        10\n",
      "                              Visa_or_mastercard       0.60      0.60      0.60        10\n",
      "                             Why_verify_identity       0.50      0.40      0.44        10\n",
      "                   Wrong_amount_of_cash_received       0.20      0.20      0.20        10\n",
      "         Wrong_exchange_rate_for_cash_withdrawal       0.45      0.50      0.48        10\n",
      "\n",
      "                                        accuracy                           0.49       770\n",
      "                                       macro avg       0.65      0.48      0.53       770\n",
      "                                    weighted avg       0.66      0.49      0.54       770\n",
      "\n"
     ]
    },
    {
     "name": "stderr",
     "output_type": "stream",
     "text": [
      "/Users/somanagy/Library/Caches/pypoetry/virtualenvs/intent-detection-sBxw7ymE-py3.8/lib/python3.8/site-packages/sklearn/metrics/_classification.py:1327: UndefinedMetricWarning: Recall and F-score are ill-defined and being set to 0.0 in labels with no true samples. Use `zero_division` parameter to control this behavior.\n",
      "  _warn_prf(average, modifier, msg_start, len(result))\n",
      "/Users/somanagy/Library/Caches/pypoetry/virtualenvs/intent-detection-sBxw7ymE-py3.8/lib/python3.8/site-packages/sklearn/metrics/_classification.py:1327: UndefinedMetricWarning: Recall and F-score are ill-defined and being set to 0.0 in labels with no true samples. Use `zero_division` parameter to control this behavior.\n",
      "  _warn_prf(average, modifier, msg_start, len(result))\n",
      "/Users/somanagy/Library/Caches/pypoetry/virtualenvs/intent-detection-sBxw7ymE-py3.8/lib/python3.8/site-packages/sklearn/metrics/_classification.py:1327: UndefinedMetricWarning: Recall and F-score are ill-defined and being set to 0.0 in labels with no true samples. Use `zero_division` parameter to control this behavior.\n",
      "  _warn_prf(average, modifier, msg_start, len(result))\n"
     ]
    }
   ],
   "source": [
    "print(classification_report(res_df['true_intent'].tolist(), res_df['pred_intent'].tolist()))"
   ]
  },
  {
   "cell_type": "code",
   "execution_count": 116,
   "id": "6dbb426f",
   "metadata": {},
   "outputs": [],
   "source": [
    "res_df.to_json(\"GPT3_few_shot_prediction.json\")"
   ]
  },
  {
   "cell_type": "markdown",
   "id": "8f6a7bfd",
   "metadata": {},
   "source": [
    "## Create full classification"
   ]
  },
  {
   "cell_type": "code",
   "execution_count": 114,
   "id": "6c9eba46",
   "metadata": {},
   "outputs": [
    {
     "name": "stdout",
     "output_type": "stream",
     "text": [
      "{\n",
      "  \"bytes\": 80490,\n",
      "  \"created_at\": 1652616313,\n",
      "  \"filename\": \"file\",\n",
      "  \"id\": \"file-2KWeai6RUbruXbl2xPF9J3uG\",\n",
      "  \"object\": \"file\",\n",
      "  \"purpose\": \"classifications\",\n",
      "  \"status\": \"uploaded\",\n",
      "  \"status_details\": null\n",
      "}\n"
     ]
    }
   ],
   "source": [
    "rewrite = True\n",
    "retrain = True\n",
    "\n",
    "train_sentences = df[df.ds_name == 'train'].groupby(\"intent\").text.apply(list)\n",
    "\n",
    "if rewrite:\n",
    "\n",
    "    with open(\"train_full.jsonl\", \"w\") as f:\n",
    "        for entry in transformed_res:\n",
    "            json.dump(entry, f)\n",
    "            f.write('\\n')\n",
    "\n",
    "if retrain:\n",
    "\n",
    "    res = openai.File.create(file=open(\"train_full.jsonl\"), purpose=\"classifications\")\n",
    "    print(res)"
   ]
  },
  {
   "cell_type": "code",
   "execution_count": 117,
   "id": "2b1b5904",
   "metadata": {},
   "outputs": [],
   "source": [
    "def classify_full(text):\n",
    "    file_id = \"file-2KWeai6RUbruXbl2xPF9J3uG\"\n",
    "\n",
    "    result = openai.Classification.create(\n",
    "        file=file_id,\n",
    "        query=text,\n",
    "        search_model=\"ada\", \n",
    "        model=\"curie\", \n",
    "        max_examples=25\n",
    "    )\n",
    "        \n",
    "    return result"
   ]
  },
  {
   "cell_type": "code",
   "execution_count": 120,
   "id": "3de4fe7d",
   "metadata": {},
   "outputs": [
    {
     "name": "stderr",
     "output_type": "stream",
     "text": [
      "770it [36:39,  2.86s/it]\n"
     ]
    }
   ],
   "source": [
    "prediction_responses = []\n",
    "\n",
    "for i, rec in tqdm(sub_test_set.iterrows()):\n",
    "    text = rec.text\n",
    "    orig_intent = rec.intent\n",
    "    \n",
    "    pred_response = classify_full(text)\n",
    "    sleep(1.5)\n",
    "    \n",
    "    prediction_responses.append({\n",
    "        \"query_text\": text,\n",
    "        \"true_intent\": orig_intent,\n",
    "        \"pred_resp\": pred_response\n",
    "    })"
   ]
  },
  {
   "cell_type": "code",
   "execution_count": 121,
   "id": "8b0cdb11",
   "metadata": {},
   "outputs": [
    {
     "data": {
      "text/html": [
       "<div>\n",
       "<style scoped>\n",
       "    .dataframe tbody tr th:only-of-type {\n",
       "        vertical-align: middle;\n",
       "    }\n",
       "\n",
       "    .dataframe tbody tr th {\n",
       "        vertical-align: top;\n",
       "    }\n",
       "\n",
       "    .dataframe thead th {\n",
       "        text-align: right;\n",
       "    }\n",
       "</style>\n",
       "<table border=\"1\" class=\"dataframe\">\n",
       "  <thead>\n",
       "    <tr style=\"text-align: right;\">\n",
       "      <th></th>\n",
       "      <th>query_text</th>\n",
       "      <th>true_intent</th>\n",
       "      <th>pred_resp</th>\n",
       "      <th>pred_intent</th>\n",
       "    </tr>\n",
       "  </thead>\n",
       "  <tbody>\n",
       "    <tr>\n",
       "      <th>0</th>\n",
       "      <td>how can i see where my money comes from?</td>\n",
       "      <td>Verify_source_of_funds</td>\n",
       "      <td>{'completion': 'cmpl-587X16VEYtTQxSfOpPVjhdvPO...</td>\n",
       "      <td>Verify_source_of_funds</td>\n",
       "    </tr>\n",
       "    <tr>\n",
       "      <th>1</th>\n",
       "      <td>i need the source of my funds verified. how do...</td>\n",
       "      <td>Verify_source_of_funds</td>\n",
       "      <td>{'completion': 'cmpl-587X5qbOP2GFkIW3eYZ0T129B...</td>\n",
       "      <td>Verify_source_of_funds</td>\n",
       "    </tr>\n",
       "    <tr>\n",
       "      <th>2</th>\n",
       "      <td>why does my money come from?</td>\n",
       "      <td>Verify_source_of_funds</td>\n",
       "      <td>{'completion': 'cmpl-587X9FLPl77JG4nwrW3VtBkph...</td>\n",
       "      <td>Verify_source_of_funds</td>\n",
       "    </tr>\n",
       "    <tr>\n",
       "      <th>3</th>\n",
       "      <td>what do i need to do to verify the source of m...</td>\n",
       "      <td>Verify_source_of_funds</td>\n",
       "      <td>{'completion': 'cmpl-587XC7IclWo1b5oCNYt0ElbEN...</td>\n",
       "      <td>Verify_source_of_funds</td>\n",
       "    </tr>\n",
       "    <tr>\n",
       "      <th>4</th>\n",
       "      <td>can i verify the source of my funds?</td>\n",
       "      <td>Verify_source_of_funds</td>\n",
       "      <td>{'completion': 'cmpl-587XFFq5hJXWOjYD1F8e07m7Q...</td>\n",
       "      <td>Verify_source_of_funds</td>\n",
       "    </tr>\n",
       "  </tbody>\n",
       "</table>\n",
       "</div>"
      ],
      "text/plain": [
       "                                          query_text  ...             pred_intent\n",
       "0           how can i see where my money comes from?  ...  Verify_source_of_funds\n",
       "1  i need the source of my funds verified. how do...  ...  Verify_source_of_funds\n",
       "2                       why does my money come from?  ...  Verify_source_of_funds\n",
       "3  what do i need to do to verify the source of m...  ...  Verify_source_of_funds\n",
       "4               can i verify the source of my funds?  ...  Verify_source_of_funds\n",
       "\n",
       "[5 rows x 4 columns]"
      ]
     },
     "execution_count": 121,
     "metadata": {},
     "output_type": "execute_result"
    }
   ],
   "source": [
    "res_df = pd.DataFrame(prediction_responses)\n",
    "res_df['true_intent'] = res_df['true_intent'].str.capitalize()\n",
    "res_df['pred_intent'] = res_df.pred_resp.apply(lambda x: x['label'])\n",
    "res_df.head()"
   ]
  },
  {
   "cell_type": "code",
   "execution_count": 122,
   "id": "232bc940",
   "metadata": {},
   "outputs": [
    {
     "data": {
      "text/plain": [
       "0.7714285714285715"
      ]
     },
     "execution_count": 122,
     "metadata": {},
     "output_type": "execute_result"
    }
   ],
   "source": [
    "accuracy_score(res_df['true_intent'].tolist(), res_df['pred_intent'].tolist())"
   ]
  },
  {
   "cell_type": "code",
   "execution_count": 123,
   "id": "2f2dfebe",
   "metadata": {},
   "outputs": [
    {
     "name": "stdout",
     "output_type": "stream",
     "text": [
      "                                                  precision    recall  f1-score   support\n",
      "\n",
      "                                Activate_my_card       1.00      0.90      0.95        10\n",
      "                                       Age_limit       1.00      0.90      0.95        10\n",
      "                         Apple_pay_or_google_pay       0.91      1.00      0.95        10\n",
      "                                     Atm_support       1.00      0.90      0.95        10\n",
      "                                Automatic_top_up       1.00      0.90      0.95        10\n",
      "         Balance_not_updated_after_bank_transfer       0.83      0.50      0.62        10\n",
      "Balance_not_updated_after_cheque_or_cash_deposit       0.88      0.70      0.78        10\n",
      "                         Beneficiary_not_allowed       1.00      0.60      0.75        10\n",
      "                                 Cancel_transfer       0.75      0.90      0.82        10\n",
      "                            Card_about_to_expire       0.80      0.80      0.80        10\n",
      "                                 Card_acceptance       0.90      0.90      0.90        10\n",
      "                                    Card_arrival       0.88      0.70      0.78        10\n",
      "                          Card_delivery_estimate       0.69      0.90      0.78        10\n",
      "                                    Card_linking       0.82      0.90      0.86        10\n",
      "                                Card_not_working       0.69      0.90      0.78        10\n",
      "                        Card_payment_fee_charged       0.69      0.90      0.78        10\n",
      "                     Card_payment_not_recognised       0.64      0.70      0.67        10\n",
      "                Card_payment_wrong_exchange_rate       0.89      0.80      0.84        10\n",
      "                                  Card_swallowed       1.00      1.00      1.00        10\n",
      "                          Cash_withdrawal_charge       0.90      0.90      0.90        10\n",
      "                  Cash_withdrawal_not_recognised       0.67      0.80      0.73        10\n",
      "                                      Change_pin       0.77      1.00      0.87        10\n",
      "                                Compromised_card       0.88      0.70      0.78        10\n",
      "                         Contactless_not_working       1.00      0.90      0.95        10\n",
      "                                 Country_support       0.89      0.80      0.84        10\n",
      "                           Declined_card_payment       0.56      0.90      0.69        10\n",
      "                        Declined_cash_withdrawal       0.75      0.30      0.43        10\n",
      "                               Declined_transfer       0.67      0.60      0.63        10\n",
      "             Direct_debit_payment_not_recognised       1.00      0.60      0.75        10\n",
      "                          Disposable_card_limits       0.89      0.80      0.84        10\n",
      "                           Edit_personal_details       1.00      0.90      0.95        10\n",
      "                                 Exchange_charge       0.86      0.60      0.71        10\n",
      "                                   Exchange_rate       0.91      1.00      0.95        10\n",
      "                                Exchange_via_app       0.64      0.90      0.75        10\n",
      "                       Extra_charge_on_statement       0.89      0.80      0.84        10\n",
      "                                 Failed_transfer       0.82      0.90      0.86        10\n",
      "                           Fiat_currency_support       0.86      0.60      0.71        10\n",
      "                     Get_disposable_virtual_card       0.70      0.70      0.70        10\n",
      "                               Get_physical_card       1.00      0.80      0.89        10\n",
      "                              Getting_spare_card       0.86      0.60      0.71        10\n",
      "                            Getting_virtual_card       0.71      0.50      0.59        10\n",
      "                             Lost_or_stolen_card       1.00      0.70      0.82        10\n",
      "                            Lost_or_stolen_phone       0.90      0.90      0.90        10\n",
      "                             Order_physical_card       0.56      0.50      0.53        10\n",
      "                              Passcode_forgotten       1.00      1.00      1.00        10\n",
      "                            Pending_card_payment       0.89      0.80      0.84        10\n",
      "                         Pending_cash_withdrawal       0.88      0.70      0.78        10\n",
      "                                  Pending_top_up       0.80      0.80      0.80        10\n",
      "                                Pending_transfer       0.45      0.50      0.48        10\n",
      "                                     Pin_blocked       0.88      0.70      0.78        10\n",
      "                                 Receiving_money       1.00      0.80      0.89        10\n",
      "                           Refund_not_showing_up       0.88      0.70      0.78        10\n",
      "                                  Request_refund       0.75      0.30      0.43        10\n",
      "                          Reverted_card_payment?       0.80      0.40      0.53        10\n",
      "                  Supported_cards_and_currencies       1.00      0.80      0.89        10\n",
      "                               Terminate_account       0.90      0.90      0.90        10\n",
      "                  Top_up_by_bank_transfer_charge       0.73      0.80      0.76        10\n",
      "                           Top_up_by_card_charge       0.67      0.80      0.73        10\n",
      "                        Top_up_by_cash_or_cheque       0.90      0.90      0.90        10\n",
      "                                   Top_up_failed       0.53      0.80      0.64        10\n",
      "                                   Top_up_limits       0.90      0.90      0.90        10\n",
      "                                 Top_up_reverted       1.00      0.60      0.75        10\n",
      "                              Topping_up_by_card       1.00      0.40      0.57        10\n",
      "                       Transaction_charged_twice       1.00      1.00      1.00        10\n",
      "                            Transfer_fee_charged       0.75      0.60      0.67        10\n",
      "                           Transfer_into_account       0.53      1.00      0.69        10\n",
      "              Transfer_not_received_by_recipient       0.58      0.70      0.64        10\n",
      "                                 Transfer_timing       0.50      0.70      0.58        10\n",
      "                       Unable_to_verify_identity       1.00      0.90      0.95        10\n",
      "                                         Unknown       0.00      0.00      0.00         0\n",
      "                              Verify_my_identity       0.75      0.90      0.82        10\n",
      "                          Verify_source_of_funds       1.00      1.00      1.00        10\n",
      "                                   Verify_top_up       1.00      1.00      1.00        10\n",
      "                        Virtual_card_not_working       0.86      0.60      0.71        10\n",
      "                              Visa_or_mastercard       1.00      0.80      0.89        10\n",
      "                             Why_verify_identity       1.00      0.80      0.89        10\n",
      "                   Wrong_amount_of_cash_received       0.70      0.70      0.70        10\n",
      "         Wrong_exchange_rate_for_cash_withdrawal       0.60      0.60      0.60        10\n",
      "\n",
      "                                        accuracy                           0.77       770\n",
      "                                       macro avg       0.82      0.76      0.78       770\n",
      "                                    weighted avg       0.83      0.77      0.79       770\n",
      "\n"
     ]
    },
    {
     "name": "stderr",
     "output_type": "stream",
     "text": [
      "/Users/somanagy/Library/Caches/pypoetry/virtualenvs/intent-detection-sBxw7ymE-py3.8/lib/python3.8/site-packages/sklearn/metrics/_classification.py:1327: UndefinedMetricWarning: Recall and F-score are ill-defined and being set to 0.0 in labels with no true samples. Use `zero_division` parameter to control this behavior.\n",
      "  _warn_prf(average, modifier, msg_start, len(result))\n",
      "/Users/somanagy/Library/Caches/pypoetry/virtualenvs/intent-detection-sBxw7ymE-py3.8/lib/python3.8/site-packages/sklearn/metrics/_classification.py:1327: UndefinedMetricWarning: Recall and F-score are ill-defined and being set to 0.0 in labels with no true samples. Use `zero_division` parameter to control this behavior.\n",
      "  _warn_prf(average, modifier, msg_start, len(result))\n",
      "/Users/somanagy/Library/Caches/pypoetry/virtualenvs/intent-detection-sBxw7ymE-py3.8/lib/python3.8/site-packages/sklearn/metrics/_classification.py:1327: UndefinedMetricWarning: Recall and F-score are ill-defined and being set to 0.0 in labels with no true samples. Use `zero_division` parameter to control this behavior.\n",
      "  _warn_prf(average, modifier, msg_start, len(result))\n"
     ]
    }
   ],
   "source": [
    "print(classification_report(res_df['true_intent'].tolist(), res_df['pred_intent'].tolist()))"
   ]
  },
  {
   "cell_type": "code",
   "execution_count": 124,
   "id": "d32d4ed4",
   "metadata": {},
   "outputs": [],
   "source": [
    "res_df.to_json(\"GPT3_full_prediction.json\")"
   ]
  },
  {
   "cell_type": "code",
   "execution_count": 128,
   "id": "973318ad",
   "metadata": {},
   "outputs": [
    {
     "name": "stderr",
     "output_type": "stream",
     "text": [
      "\u001b[34m\u001b[1mwandb\u001b[0m: Currently logged in as: \u001b[33mnsoma\u001b[0m. Use \u001b[1m`wandb login --relogin`\u001b[0m to force relogin\n"
     ]
    },
    {
     "data": {
      "text/html": [
       "Tracking run with wandb version 0.12.16"
      ],
      "text/plain": [
       "<IPython.core.display.HTML object>"
      ]
     },
     "metadata": {},
     "output_type": "display_data"
    },
    {
     "data": {
      "text/html": [
       "Run data is saved locally in <code>/Users/somanagy/Desktop/repos/intent-detection/wandb/run-20220515_150929-33smyoz9</code>"
      ],
      "text/plain": [
       "<IPython.core.display.HTML object>"
      ]
     },
     "metadata": {},
     "output_type": "display_data"
    },
    {
     "data": {
      "text/html": [
       "Syncing run <strong><a href=\"https://wandb.ai/nsoma/intent-detection/runs/33smyoz9\" target=\"_blank\">elated-brook-8</a></strong> to <a href=\"https://wandb.ai/nsoma/intent-detection\" target=\"_blank\">Weights & Biases</a> (<a href=\"https://wandb.me/run\" target=\"_blank\">docs</a>)<br/>"
      ],
      "text/plain": [
       "<IPython.core.display.HTML object>"
      ]
     },
     "metadata": {},
     "output_type": "display_data"
    },
    {
     "data": {
      "text/html": [
       "Waiting for W&B process to finish... <strong style=\"color:green\">(success).</strong>"
      ],
      "text/plain": [
       "<IPython.core.display.HTML object>"
      ]
     },
     "metadata": {},
     "output_type": "display_data"
    },
    {
     "data": {
      "application/vnd.jupyter.widget-view+json": {
       "model_id": "",
       "version_major": 2,
       "version_minor": 0
      },
      "text/plain": [
       "VBox(children=(Label(value='0.001 MB of 0.001 MB uploaded (0.000 MB deduped)\\r'), FloatProgress(value=1.0, max…"
      ]
     },
     "metadata": {},
     "output_type": "display_data"
    },
    {
     "data": {
      "text/html": [
       "<style>\n",
       "    table.wandb td:nth-child(1) { padding: 0 10px; text-align: left ; width: auto;} td:nth-child(2) {text-align: left ; width: 100%}\n",
       "    .wandb-row { display: flex; flex-direction: row; flex-wrap: wrap; justify-content: flex-start; width: 100% }\n",
       "    .wandb-col { display: flex; flex-direction: column; flex-basis: 100%; flex: 1; padding: 10px; }\n",
       "    </style>\n",
       "<div class=\"wandb-row\"><div class=\"wandb-col\"><h3>Run history:</h3><br/><table class=\"wandb\"><tr><td>test_accuracy</td><td>▁</td></tr><tr><td>test_f1_score</td><td>▁</td></tr></table><br/></div><div class=\"wandb-col\"><h3>Run summary:</h3><br/><table class=\"wandb\"><tr><td>test_accuracy</td><td>0.77143</td></tr><tr><td>test_f1_score</td><td>0.78797</td></tr></table><br/></div></div>"
      ],
      "text/plain": [
       "<IPython.core.display.HTML object>"
      ]
     },
     "metadata": {},
     "output_type": "display_data"
    },
    {
     "data": {
      "text/html": [
       "Synced <strong style=\"color:#cdcd00\">elated-brook-8</strong>: <a href=\"https://wandb.ai/nsoma/intent-detection/runs/33smyoz9\" target=\"_blank\">https://wandb.ai/nsoma/intent-detection/runs/33smyoz9</a><br/>Synced 4 W&B file(s), 0 media file(s), 0 artifact file(s) and 0 other file(s)"
      ],
      "text/plain": [
       "<IPython.core.display.HTML object>"
      ]
     },
     "metadata": {},
     "output_type": "display_data"
    },
    {
     "data": {
      "text/html": [
       "Find logs at: <code>./wandb/run-20220515_150929-33smyoz9/logs</code>"
      ],
      "text/plain": [
       "<IPython.core.display.HTML object>"
      ]
     },
     "metadata": {},
     "output_type": "display_data"
    }
   ],
   "source": [
    "wandb.init(project=\"intent-detection\", entity='nsoma')\n",
    "\n",
    "wandb.run.name = \"GPT-3 sem-search classification\"\n",
    "\n",
    "wandb.log({\"test_accuracy\": accuracy_score(res_df['true_intent'].tolist(), res_df['pred_intent'].tolist()),\n",
    "           \"test_f1_score\": f1_score(res_df['true_intent'].tolist(), res_df['pred_intent'].tolist(), average='weighted')})\n",
    "\n",
    "wandb.finish()"
   ]
  },
  {
   "cell_type": "markdown",
   "id": "04c2a72f",
   "metadata": {},
   "source": [
    "## Fine-tune GPT-3"
   ]
  },
  {
   "cell_type": "code",
   "execution_count": 129,
   "id": "d7704c70",
   "metadata": {},
   "outputs": [],
   "source": [
    "transformed_res = []\n",
    "\n",
    "for intent, sents in train_sentences.iteritems():\n",
    "    for sent in sents:\n",
    "        transformed_res.append({\"prompt\": sent, \"completion\": intent})\n",
    "\n",
    "\n",
    "with open(\"fine_tune_data.jsonl\", \"w\") as f:\n",
    "        for entry in transformed_res:\n",
    "            json.dump(entry, f)\n",
    "            f.write('\\n')"
   ]
  },
  {
   "cell_type": "code",
   "execution_count": 135,
   "id": "f577a9f9",
   "metadata": {},
   "outputs": [
    {
     "name": "stdout",
     "output_type": "stream",
     "text": [
      "{\"prompt\": \"who should i contact if my refund doesn't go through?\", \"completion\": \"Refund_not_showing_up\"}\r\n",
      "{\"prompt\": \"please help me.  i am still waiting on a refund.\", \"completion\": \"Refund_not_showing_up\"}\r\n",
      "{\"prompt\": \"when should i receive my refund\", \"completion\": \"Refund_not_showing_up\"}\r\n",
      "{\"prompt\": \"i am missing my refund.\", \"completion\": \"Refund_not_showing_up\"}\r\n",
      "{\"prompt\": \"when will my returned transaction show up on my account?\", \"completion\": \"Refund_not_showing_up\"}\r\n",
      "{\"prompt\": \"i have not received a refund.\", \"completion\": \"Refund_not_showing_up\"}\r\n",
      "{\"prompt\": \"where is my refund? it appears to be missing.\", \"completion\": \"Refund_not_showing_up\"}\r\n",
      "{\"prompt\": \"i was suppose to be getting a refund for something i purchased a while ago, but it still hasnt been applied to my account. when will i get my money back?\", \"completion\": \"Refund_not_showing_up\"}\r\n",
      "{\"prompt\": \"i can't see my refund in my history.\", \"completion\": \"Refund_not_showing_up\"}\r\n",
      "{\"prompt\": \"i requested a refund but can't see it.\", \"completion\": \"Refund_not_showing_up\"}\r\n"
     ]
    }
   ],
   "source": [
    "!head fine_tune_data.jsonl"
   ]
  },
  {
   "cell_type": "code",
   "execution_count": 137,
   "id": "c166f6fc",
   "metadata": {},
   "outputs": [
    {
     "name": "stdout",
     "output_type": "stream",
     "text": [
      "Analyzing...\n",
      "\n",
      "- Your file contains 8622 prompt-completion pairs\n",
      "- Based on your data it seems like you're trying to fine-tune a model for classification\n",
      "- For classification, we recommend you try one of the faster and cheaper models, such as `ada`\n",
      "- For classification, you can estimate the expected model performance by keeping a held out dataset, which is not used for training\n",
      "- There are 4 duplicated prompt-completion sets. These are rows: [545, 1827, 2753, 5721]\n",
      "- Your data does not contain a common separator at the end of your prompts. Having a separator string appended to the end of the prompt makes it clearer to the fine-tuned model where the completion should begin. See https://beta.openai.com/docs/guides/fine-tuning/preparing-your-dataset for more detail and examples. If you intend to do open-ended generation, then you should leave the prompts empty\n",
      "- The completion should start with a whitespace character (` `). This tends to produce better results due to the tokenization we use. See https://beta.openai.com/docs/guides/fine-tuning/preparing-your-dataset for more details\n",
      "\n",
      "Based on the analysis we will perform the following actions:\n",
      "- [Recommended] Remove 4 duplicate rows [Y/n]: Y\n",
      "- [Recommended] Add a suffix separator ` ->` to all prompts [Y/n]: Y\n",
      "/Users/somanagy/Library/Caches/pypoetry/virtualenvs/intent-detection-sBxw7ymE-py3.8/lib/python3.8/site-packages/openai/validators.py:215: SettingWithCopyWarning: \n",
      "A value is trying to be set on a copy of a slice from a DataFrame.\n",
      "Try using .loc[row_indexer,col_indexer] = value instead\n",
      "\n",
      "See the caveats in the documentation: https://pandas.pydata.org/pandas-docs/stable/user_guide/indexing.html#returning-a-view-versus-a-copy\n",
      "  x[\"prompt\"] += suffix\n",
      "- [Recommended] Add a whitespace character to the beginning of the completion [Y/n]: Y\n",
      "/Users/somanagy/Library/Caches/pypoetry/virtualenvs/intent-detection-sBxw7ymE-py3.8/lib/python3.8/site-packages/openai/validators.py:414: SettingWithCopyWarning: \n",
      "A value is trying to be set on a copy of a slice from a DataFrame.\n",
      "Try using .loc[row_indexer,col_indexer] = value instead\n",
      "\n",
      "See the caveats in the documentation: https://pandas.pydata.org/pandas-docs/stable/user_guide/indexing.html#returning-a-view-versus-a-copy\n",
      "  x[\"completion\"] = x[\"completion\"].apply(\n",
      "- [Recommended] Would you like to split into training and validation set? [Y/n]: Y\n",
      "\n",
      "\n",
      "Your data will be written to a new JSONL file. Proceed [Y/n]: Y\n",
      "\n",
      "Wrote modified files to `fine_tune_data_prepared_train.jsonl` and `fine_tune_data_prepared_valid.jsonl`\n",
      "Feel free to take a look!\n",
      "\n",
      "Now use that file when fine-tuning:\n",
      "> openai api fine_tunes.create -t \"fine_tune_data_prepared_train.jsonl\" -v \"fine_tune_data_prepared_valid.jsonl\" --compute_classification_metrics --classification_n_classes 77\n",
      "\n",
      "After you’ve fine-tuned a model, remember that your prompt has to end with the indicator string ` ->` for the model to start generating completions, rather than continuing with the prompt.\n",
      "Once your model starts training, it'll approximately take 3.49 hours to train a `curie` model, and less for `ada` and `babbage`. Queue will approximately take half an hour per job ahead of you.\n"
     ]
    }
   ],
   "source": [
    "!openai tools fine_tunes.prepare_data -f fine_tune_data.jsonl -q"
   ]
  },
  {
   "cell_type": "code",
   "execution_count": 143,
   "id": "48e0b116",
   "metadata": {
    "scrolled": false
   },
   "outputs": [
    {
     "name": "stdout",
     "output_type": "stream",
     "text": [
      "usage: openai api fine_tunes.create [-h] -t TRAINING_FILE [-v VALIDATION_FILE]\r\n",
      "                                    [--no_check_if_files_exist] [-m MODEL]\r\n",
      "                                    [--suffix SUFFIX] [--no_follow]\r\n",
      "                                    [--n_epochs N_EPOCHS]\r\n",
      "                                    [--batch_size BATCH_SIZE]\r\n",
      "                                    [--learning_rate_multiplier LEARNING_RATE_MULTIPLIER]\r\n",
      "                                    [--prompt_loss_weight PROMPT_LOSS_WEIGHT]\r\n",
      "                                    [--compute_classification_metrics]\r\n",
      "                                    [--classification_n_classes CLASSIFICATION_N_CLASSES]\r\n",
      "                                    [--classification_positive_class CLASSIFICATION_POSITIVE_CLASS]\r\n",
      "                                    [--classification_betas CLASSIFICATION_BETAS [CLASSIFICATION_BETAS ...]]\r\n",
      "openai api fine_tunes.create: error: the following arguments are required: -t/--training_file\r\n"
     ]
    }
   ],
   "source": [
    "!openai api fine_tunes.create"
   ]
  },
  {
   "cell_type": "code",
   "execution_count": 148,
   "id": "59bc3f78",
   "metadata": {},
   "outputs": [
    {
     "name": "stdout",
     "output_type": "stream",
     "text": [
      "Upload progress: 100%|███████████████████████| 877k/877k [00:00<00:00, 321Mit/s]\n",
      "Uploaded file from fine_tune_data_prepared_train.jsonl: file-zRfjk0qOcgaHeVBNj7m3vzG1\n",
      "Upload progress: 100%|███████████████████████| 115k/115k [00:00<00:00, 101Mit/s]\n",
      "Uploaded file from fine_tune_data_prepared_valid.jsonl: file-uQeC3zYZ3DVSnOGGuRraK3TG\n",
      "Created fine-tune: ft-Dc0iIRPBKBEWcqiBdnZE399e\n",
      "Streaming events until fine-tuning is complete...\n",
      "\n",
      "(Ctrl-C will interrupt the stream, but not cancel the fine-tune)\n",
      "[2022-05-15 15:43:26] Created fine-tune: ft-Dc0iIRPBKBEWcqiBdnZE399e\n",
      "[2022-05-15 15:46:38] Fine-tune costs $0.26\n",
      "[2022-05-15 15:46:39] Fine-tune enqueued. Queue number: 0\n",
      "[2022-05-15 15:46:43] Fine-tune started\n",
      "[2022-05-15 15:52:49] Completed epoch 1/4\n",
      "\n",
      "Stream interrupted (client disconnected).\n",
      "To resume the stream, run:\n",
      "\n",
      "  openai api fine_tunes.follow -i ft-Dc0iIRPBKBEWcqiBdnZE399e\n",
      "\n"
     ]
    }
   ],
   "source": [
    "!openai api fine_tunes.create -t \"fine_tune_data_prepared_train.jsonl\" -v \"fine_tune_data_prepared_valid.jsonl\" --no_check_if_files_exist -m ada"
   ]
  },
  {
   "cell_type": "code",
   "execution_count": 149,
   "id": "c42c7358",
   "metadata": {},
   "outputs": [
    {
     "name": "stdout",
     "output_type": "stream",
     "text": [
      "[2022-05-15 15:43:26] Created fine-tune: ft-Dc0iIRPBKBEWcqiBdnZE399e\n",
      "[2022-05-15 15:46:38] Fine-tune costs $0.26\n",
      "[2022-05-15 15:46:39] Fine-tune enqueued. Queue number: 0\n",
      "[2022-05-15 15:46:43] Fine-tune started\n",
      "[2022-05-15 15:52:49] Completed epoch 1/4\n",
      "[2022-05-15 15:58:38] Completed epoch 2/4\n",
      "[2022-05-15 16:04:28] Completed epoch 3/4\n",
      "[2022-05-15 16:10:18] Completed epoch 4/4\n",
      "[2022-05-15 16:10:41] Uploaded model: ada:ft-personal-2022-05-15-14-10-39\n",
      "[2022-05-15 16:10:44] Uploaded result file: file-NiTfLhrTFMyAkpRTi8tjo7RB\n",
      "[2022-05-15 16:10:45] Fine-tune succeeded\n",
      "\n",
      "Job complete! Status: succeeded 🎉\n",
      "Try out your fine-tuned model:\n",
      "\n",
      "openai api completions.create -m ada:ft-personal-2022-05-15-14-10-39 -p <YOUR_PROMPT>\n"
     ]
    }
   ],
   "source": [
    "!openai api fine_tunes.follow -i ft-Dc0iIRPBKBEWcqiBdnZE399e"
   ]
  },
  {
   "cell_type": "code",
   "execution_count": 151,
   "id": "e2f25d2a",
   "metadata": {},
   "outputs": [
    {
     "name": "stdout",
     "output_type": "stream",
     "text": [
      "\u001b[34m\u001b[1mwandb\u001b[0m: Currently logged in as: \u001b[33mnsoma\u001b[0m. Use \u001b[1m`wandb login --relogin`\u001b[0m to force relogin\n",
      "\u001b[34m\u001b[1mwandb\u001b[0m: Tracking run with wandb version 0.12.16\n",
      "\u001b[34m\u001b[1mwandb\u001b[0m: Run data is saved locally in \u001b[35m\u001b[1m/Users/somanagy/Desktop/repos/intent-detection/wandb/run-20220515_161416-ft-Dc0iIRPBKBEWcqiBdnZE399e\u001b[0m\n",
      "\u001b[34m\u001b[1mwandb\u001b[0m: Run \u001b[1m`wandb offline`\u001b[0m to turn off syncing.\n",
      "\u001b[34m\u001b[1mwandb\u001b[0m: Syncing run \u001b[33mft-Dc0iIRPBKBEWcqiBdnZE399e\u001b[0m\n",
      "\u001b[34m\u001b[1mwandb\u001b[0m: ⭐️ View project at \u001b[34m\u001b[4mhttps://wandb.ai/nsoma/GPT-3\u001b[0m\n",
      "\u001b[34m\u001b[1mwandb\u001b[0m: 🚀 View run at \u001b[34m\u001b[4mhttps://wandb.ai/nsoma/GPT-3/runs/ft-Dc0iIRPBKBEWcqiBdnZE399e\u001b[0m\n",
      "File file-zRfjk0qOcgaHeVBNj7m3vzG1 could not be retrieved. Make sure you are allowed to download training/validation files\n",
      "File file-uQeC3zYZ3DVSnOGGuRraK3TG could not be retrieved. Make sure you are allowed to download training/validation files\n",
      "\u001b[34m\u001b[1mwandb\u001b[0m: Waiting for W&B process to finish... \u001b[32m(success).\u001b[0m\n",
      "\u001b[34m\u001b[1mwandb\u001b[0m:                                                                                \n",
      "\u001b[34m\u001b[1mwandb\u001b[0m: \n",
      "\u001b[34m\u001b[1mwandb\u001b[0m: Run history:\n",
      "\u001b[34m\u001b[1mwandb\u001b[0m:             elapsed_examples ▁▁▁▂▂▂▂▂▂▃▃▃▃▃▃▄▄▄▄▄▅▅▅▅▅▅▆▆▆▆▆▇▇▇▇▇▇███\n",
      "\u001b[34m\u001b[1mwandb\u001b[0m:               elapsed_tokens ▁▁▁▂▂▂▂▂▂▃▃▃▃▃▄▄▄▄▄▄▅▅▅▅▅▅▆▆▆▆▆▇▇▇▇▇▇███\n",
      "\u001b[34m\u001b[1mwandb\u001b[0m:                training_loss █▅▅▄▄▂▆▃▂▂▃▃▂▃▃▃▂▂▂▃▂▂▂▂▂▂▂▂▂▃▁▁▁▁▁▂▁▂▁▁\n",
      "\u001b[34m\u001b[1mwandb\u001b[0m:   training_sequence_accuracy ▁▅▂▄▆█▇▇██▇▇███▇▇██▆█████▇███▇██████████\n",
      "\u001b[34m\u001b[1mwandb\u001b[0m:      training_token_accuracy ▁▄▄▅▇█▇▇██▇▇███▇███▆█████▇███▇██████████\n",
      "\u001b[34m\u001b[1mwandb\u001b[0m:              validation_loss █▃▂▂▂▃▃▂▂▂▂▂▂▁▂▁▁▃▁▂▂▁▁▂▂▂▂▁▂▂▁▁▁▁▁▁▁▂▂▂\n",
      "\u001b[34m\u001b[1mwandb\u001b[0m: validation_sequence_accuracy ▁▃▅▆▅▅▅▆▇▆▆█████▅▅▇▆▇█▇▆▆▆▆▇▇███████████\n",
      "\u001b[34m\u001b[1mwandb\u001b[0m:    validation_token_accuracy ▁▅▇▇▇▇▇▇█▇▇█████▇▇█▇███▇▇▇▇█████████████\n",
      "\u001b[34m\u001b[1mwandb\u001b[0m: \n",
      "\u001b[34m\u001b[1mwandb\u001b[0m: Run summary:\n",
      "\u001b[34m\u001b[1mwandb\u001b[0m:             elapsed_examples 30480.0\n",
      "\u001b[34m\u001b[1mwandb\u001b[0m:               elapsed_tokens 1287888.0\n",
      "\u001b[34m\u001b[1mwandb\u001b[0m:             fine_tuned_model ada:ft-personal-2022...\n",
      "\u001b[34m\u001b[1mwandb\u001b[0m:                       status succeeded\n",
      "\u001b[34m\u001b[1mwandb\u001b[0m:                training_loss 0.04386\n",
      "\u001b[34m\u001b[1mwandb\u001b[0m:   training_sequence_accuracy 1.0\n",
      "\u001b[34m\u001b[1mwandb\u001b[0m:      training_token_accuracy 1.0\n",
      "\u001b[34m\u001b[1mwandb\u001b[0m:              validation_loss 0.11193\n",
      "\u001b[34m\u001b[1mwandb\u001b[0m: validation_sequence_accuracy 1.0\n",
      "\u001b[34m\u001b[1mwandb\u001b[0m:    validation_token_accuracy 1.0\n",
      "\u001b[34m\u001b[1mwandb\u001b[0m: \n",
      "\u001b[34m\u001b[1mwandb\u001b[0m: Synced \u001b[33mft-Dc0iIRPBKBEWcqiBdnZE399e\u001b[0m: \u001b[34m\u001b[4mhttps://wandb.ai/nsoma/GPT-3/runs/ft-Dc0iIRPBKBEWcqiBdnZE399e\u001b[0m\n",
      "\u001b[34m\u001b[1mwandb\u001b[0m: Synced 5 W&B file(s), 0 media file(s), 1 artifact file(s) and 0 other file(s)\n",
      "\u001b[34m\u001b[1mwandb\u001b[0m: Find logs at: \u001b[35m\u001b[1m./wandb/run-20220515_161416-ft-Dc0iIRPBKBEWcqiBdnZE399e/logs\u001b[0m\n",
      "🎉 wandb sync completed successfully\n"
     ]
    }
   ],
   "source": [
    "!openai wandb sync"
   ]
  },
  {
   "cell_type": "code",
   "execution_count": 159,
   "id": "970dfa05",
   "metadata": {},
   "outputs": [],
   "source": [
    "!openai api fine_tunes.results -i ft-Dc0iIRPBKBEWcqiBdnZE399e > result.csv"
   ]
  },
  {
   "cell_type": "code",
   "execution_count": 161,
   "id": "b89153ba",
   "metadata": {},
   "outputs": [
    {
     "data": {
      "text/html": [
       "<div>\n",
       "<style scoped>\n",
       "    .dataframe tbody tr th:only-of-type {\n",
       "        vertical-align: middle;\n",
       "    }\n",
       "\n",
       "    .dataframe tbody tr th {\n",
       "        vertical-align: top;\n",
       "    }\n",
       "\n",
       "    .dataframe thead th {\n",
       "        text-align: right;\n",
       "    }\n",
       "</style>\n",
       "<table border=\"1\" class=\"dataframe\">\n",
       "  <thead>\n",
       "    <tr style=\"text-align: right;\">\n",
       "      <th></th>\n",
       "      <th>step</th>\n",
       "      <th>elapsed_tokens</th>\n",
       "      <th>elapsed_examples</th>\n",
       "      <th>training_loss</th>\n",
       "      <th>training_sequence_accuracy</th>\n",
       "      <th>training_token_accuracy</th>\n",
       "      <th>validation_loss</th>\n",
       "      <th>validation_sequence_accuracy</th>\n",
       "      <th>validation_token_accuracy</th>\n",
       "    </tr>\n",
       "  </thead>\n",
       "  <tbody>\n",
       "    <tr>\n",
       "      <th>0</th>\n",
       "      <td>1</td>\n",
       "      <td>392</td>\n",
       "      <td>8</td>\n",
       "      <td>0.691199</td>\n",
       "      <td>0.000</td>\n",
       "      <td>0.274510</td>\n",
       "      <td>0.389372</td>\n",
       "      <td>0.0</td>\n",
       "      <td>0.574074</td>\n",
       "    </tr>\n",
       "    <tr>\n",
       "      <th>1</th>\n",
       "      <td>2</td>\n",
       "      <td>848</td>\n",
       "      <td>16</td>\n",
       "      <td>0.470169</td>\n",
       "      <td>0.000</td>\n",
       "      <td>0.468085</td>\n",
       "      <td>NaN</td>\n",
       "      <td>NaN</td>\n",
       "      <td>NaN</td>\n",
       "    </tr>\n",
       "    <tr>\n",
       "      <th>2</th>\n",
       "      <td>3</td>\n",
       "      <td>1176</td>\n",
       "      <td>24</td>\n",
       "      <td>0.630532</td>\n",
       "      <td>0.000</td>\n",
       "      <td>0.609375</td>\n",
       "      <td>NaN</td>\n",
       "      <td>NaN</td>\n",
       "      <td>NaN</td>\n",
       "    </tr>\n",
       "    <tr>\n",
       "      <th>3</th>\n",
       "      <td>4</td>\n",
       "      <td>1504</td>\n",
       "      <td>32</td>\n",
       "      <td>0.514540</td>\n",
       "      <td>0.000</td>\n",
       "      <td>0.637931</td>\n",
       "      <td>NaN</td>\n",
       "      <td>NaN</td>\n",
       "      <td>NaN</td>\n",
       "    </tr>\n",
       "    <tr>\n",
       "      <th>4</th>\n",
       "      <td>5</td>\n",
       "      <td>1896</td>\n",
       "      <td>40</td>\n",
       "      <td>0.373151</td>\n",
       "      <td>0.000</td>\n",
       "      <td>0.589744</td>\n",
       "      <td>NaN</td>\n",
       "      <td>NaN</td>\n",
       "      <td>NaN</td>\n",
       "    </tr>\n",
       "    <tr>\n",
       "      <th>...</th>\n",
       "      <td>...</td>\n",
       "      <td>...</td>\n",
       "      <td>...</td>\n",
       "      <td>...</td>\n",
       "      <td>...</td>\n",
       "      <td>...</td>\n",
       "      <td>...</td>\n",
       "      <td>...</td>\n",
       "      <td>...</td>\n",
       "    </tr>\n",
       "    <tr>\n",
       "      <th>3805</th>\n",
       "      <td>3806</td>\n",
       "      <td>1286320</td>\n",
       "      <td>30448</td>\n",
       "      <td>0.050984</td>\n",
       "      <td>1.000</td>\n",
       "      <td>1.000000</td>\n",
       "      <td>NaN</td>\n",
       "      <td>NaN</td>\n",
       "      <td>NaN</td>\n",
       "    </tr>\n",
       "    <tr>\n",
       "      <th>3806</th>\n",
       "      <td>3807</td>\n",
       "      <td>1286584</td>\n",
       "      <td>30456</td>\n",
       "      <td>0.062177</td>\n",
       "      <td>0.875</td>\n",
       "      <td>0.976744</td>\n",
       "      <td>NaN</td>\n",
       "      <td>NaN</td>\n",
       "      <td>NaN</td>\n",
       "    </tr>\n",
       "    <tr>\n",
       "      <th>3807</th>\n",
       "      <td>3808</td>\n",
       "      <td>1286912</td>\n",
       "      <td>30464</td>\n",
       "      <td>0.056756</td>\n",
       "      <td>1.000</td>\n",
       "      <td>1.000000</td>\n",
       "      <td>NaN</td>\n",
       "      <td>NaN</td>\n",
       "      <td>NaN</td>\n",
       "    </tr>\n",
       "    <tr>\n",
       "      <th>3808</th>\n",
       "      <td>3809</td>\n",
       "      <td>1287368</td>\n",
       "      <td>30472</td>\n",
       "      <td>0.061187</td>\n",
       "      <td>1.000</td>\n",
       "      <td>1.000000</td>\n",
       "      <td>NaN</td>\n",
       "      <td>NaN</td>\n",
       "      <td>NaN</td>\n",
       "    </tr>\n",
       "    <tr>\n",
       "      <th>3809</th>\n",
       "      <td>3810</td>\n",
       "      <td>1287888</td>\n",
       "      <td>30480</td>\n",
       "      <td>0.043861</td>\n",
       "      <td>1.000</td>\n",
       "      <td>1.000000</td>\n",
       "      <td>NaN</td>\n",
       "      <td>NaN</td>\n",
       "      <td>NaN</td>\n",
       "    </tr>\n",
       "  </tbody>\n",
       "</table>\n",
       "<p>3810 rows × 9 columns</p>\n",
       "</div>"
      ],
      "text/plain": [
       "      step  ...  validation_token_accuracy\n",
       "0        1  ...                   0.574074\n",
       "1        2  ...                        NaN\n",
       "2        3  ...                        NaN\n",
       "3        4  ...                        NaN\n",
       "4        5  ...                        NaN\n",
       "...    ...  ...                        ...\n",
       "3805  3806  ...                        NaN\n",
       "3806  3807  ...                        NaN\n",
       "3807  3808  ...                        NaN\n",
       "3808  3809  ...                        NaN\n",
       "3809  3810  ...                        NaN\n",
       "\n",
       "[3810 rows x 9 columns]"
      ]
     },
     "execution_count": 161,
     "metadata": {},
     "output_type": "execute_result"
    }
   ],
   "source": [
    "results = pd.read_csv('result.csv')\n",
    "results"
   ]
  },
  {
   "cell_type": "code",
   "execution_count": 150,
   "id": "a5249f51",
   "metadata": {},
   "outputs": [
    {
     "name": "stdout",
     "output_type": "stream",
     "text": [
      "can i verify the source of my funds? -> verify_source_of_funds_verification_ challans_had"
     ]
    }
   ],
   "source": [
    "!openai api completions.create -m ada:ft-personal-2022-05-15-14-10-39 -p \"can i verify the source of my funds? ->\""
   ]
  },
  {
   "cell_type": "code",
   "execution_count": 152,
   "id": "b060ff6d",
   "metadata": {},
   "outputs": [],
   "source": [
    "ft_model = \"ada:ft-personal-2022-05-15-14-10-39\""
   ]
  },
  {
   "cell_type": "code",
   "execution_count": null,
   "id": "f3285637",
   "metadata": {},
   "outputs": [],
   "source": [
    "test_prompt = \"can i verify the source of my funds?\""
   ]
  },
  {
   "cell_type": "code",
   "execution_count": 157,
   "id": "9fdb4ade",
   "metadata": {},
   "outputs": [
    {
     "data": {
      "text/plain": [
       "<OpenAIObject text_completion id=cmpl-589MmegpkBmHYMLXUbAM9Srhh9Jtw at 0x7feec30fed10> JSON: {\n",
       "  \"choices\": [\n",
       "    {\n",
       "      \"finish_reason\": \"length\",\n",
       "      \"index\": 0,\n",
       "      \"logprobs\": null,\n",
       "      \"text\": \" lost_or_stolen_card_not_working_anymore\"\n",
       "    }\n",
       "  ],\n",
       "  \"created\": 1652624312,\n",
       "  \"id\": \"cmpl-589MmegpkBmHYMLXUbAM9Srhh9Jtw\",\n",
       "  \"model\": \"ada:ft-personal-2022-05-15-14-10-39\",\n",
       "  \"object\": \"text_completion\"\n",
       "}"
      ]
     },
     "execution_count": 157,
     "metadata": {},
     "output_type": "execute_result"
    }
   ],
   "source": [
    "res = openai.Completion.create(model=ft_model, prompt=test_prompt + ' ->', max_tokens=15, temperature=0)\n",
    "res"
   ]
  },
  {
   "cell_type": "markdown",
   "id": "aa9d2ac0",
   "metadata": {},
   "source": [
    "### Fine-tune a Curie model"
   ]
  },
  {
   "cell_type": "code",
   "execution_count": 162,
   "id": "d7cc7f3a",
   "metadata": {},
   "outputs": [
    {
     "name": "stdout",
     "output_type": "stream",
     "text": [
      "Upload progress: 100%|███████████████████████| 877k/877k [00:00<00:00, 367Mit/s]\n",
      "Uploaded file from fine_tune_data_prepared_train.jsonl: file-vdE2hDOtN4nYHLc7fujwUmtn\n",
      "Upload progress: 100%|███████████████████████| 115k/115k [00:00<00:00, 143Mit/s]\n",
      "Uploaded file from fine_tune_data_prepared_valid.jsonl: file-b1B5QMsbYZVXRDXN6o04OF4w\n",
      "Created fine-tune: ft-QoR0ZWwaUq6liNIOyPAD1PNR\n",
      "Streaming events until fine-tuning is complete...\n",
      "\n",
      "(Ctrl-C will interrupt the stream, but not cancel the fine-tune)\n",
      "[2022-05-16 20:10:04] Created fine-tune: ft-QoR0ZWwaUq6liNIOyPAD1PNR\n",
      "\n",
      "Stream interrupted (client disconnected).\n",
      "To resume the stream, run:\n",
      "\n",
      "  openai api fine_tunes.follow -i ft-QoR0ZWwaUq6liNIOyPAD1PNR\n",
      "\n"
     ]
    }
   ],
   "source": [
    "!openai api fine_tunes.create -t \"fine_tune_data_prepared_train.jsonl\" -v \"fine_tune_data_prepared_valid.jsonl\" --no_check_if_files_exist -m curie"
   ]
  },
  {
   "cell_type": "code",
   "execution_count": 164,
   "id": "781f3624",
   "metadata": {},
   "outputs": [
    {
     "name": "stdout",
     "output_type": "stream",
     "text": [
      "[2022-05-16 20:10:04] Created fine-tune: ft-QoR0ZWwaUq6liNIOyPAD1PNR\n",
      "[2022-05-16 20:26:47] Fine-tune costs $1.96\n",
      "[2022-05-16 20:26:48] Fine-tune enqueued. Queue number: 0\n",
      "[2022-05-16 20:38:01] Fine-tune started\n",
      "[2022-05-16 20:59:56] Completed epoch 2/4\n",
      "[2022-05-16 21:08:39] Completed epoch 3/4\n",
      "[2022-05-16 21:17:21] Completed epoch 4/4\n",
      "[2022-05-16 21:17:48] Uploaded model: curie:ft-personal-2022-05-16-19-17-46\n",
      "[2022-05-16 21:17:51] Uploaded result file: file-XlfhpQqaXrtQUTesENms3LpH\n",
      "[2022-05-16 21:17:52] Fine-tune succeeded\n",
      "\n",
      "Job complete! Status: succeeded 🎉\n",
      "Try out your fine-tuned model:\n",
      "\n",
      "openai api completions.create -m curie:ft-personal-2022-05-16-19-17-46 -p <YOUR_PROMPT>\n"
     ]
    }
   ],
   "source": [
    "!openai api fine_tunes.follow -i ft-QoR0ZWwaUq6liNIOyPAD1PNR"
   ]
  },
  {
   "cell_type": "code",
   "execution_count": 166,
   "id": "c39c1a84",
   "metadata": {},
   "outputs": [
    {
     "name": "stdout",
     "output_type": "stream",
     "text": [
      "can i verify the source of my funds? -> verify_source_of_funds_support_not_being_allowed"
     ]
    }
   ],
   "source": [
    "!openai api completions.create -m curie:ft-personal-2022-05-16-19-17-46 -p \"can i verify the source of my funds? ->\""
   ]
  },
  {
   "cell_type": "markdown",
   "id": "ae904bd5",
   "metadata": {},
   "source": [
    "### Use numerical class labels"
   ]
  },
  {
   "cell_type": "code",
   "execution_count": 168,
   "id": "9c4f712d",
   "metadata": {},
   "outputs": [],
   "source": [
    "transformed_res = []\n",
    "\n",
    "for ind, (intent, sents) in enumerate(train_sentences.iteritems()):\n",
    "    for sent in sents:\n",
    "        transformed_res.append({\"prompt\": sent, \"completion\": f\" {ind}\"})\n",
    "\n",
    "\n",
    "with open(\"fine_tune_data_num.jsonl\", \"w\") as f:\n",
    "        for entry in transformed_res:\n",
    "            json.dump(entry, f)\n",
    "            f.write('\\n')"
   ]
  },
  {
   "cell_type": "code",
   "execution_count": 169,
   "id": "5cb31bcd",
   "metadata": {},
   "outputs": [
    {
     "name": "stdout",
     "output_type": "stream",
     "text": [
      "{\"prompt\": \"who should i contact if my refund doesn't go through?\", \"completion\": \" 0\"}\r\n",
      "{\"prompt\": \"please help me.  i am still waiting on a refund.\", \"completion\": \" 0\"}\r\n",
      "{\"prompt\": \"when should i receive my refund\", \"completion\": \" 0\"}\r\n",
      "{\"prompt\": \"i am missing my refund.\", \"completion\": \" 0\"}\r\n",
      "{\"prompt\": \"when will my returned transaction show up on my account?\", \"completion\": \" 0\"}\r\n",
      "{\"prompt\": \"i have not received a refund.\", \"completion\": \" 0\"}\r\n",
      "{\"prompt\": \"where is my refund? it appears to be missing.\", \"completion\": \" 0\"}\r\n",
      "{\"prompt\": \"i was suppose to be getting a refund for something i purchased a while ago, but it still hasnt been applied to my account. when will i get my money back?\", \"completion\": \" 0\"}\r\n",
      "{\"prompt\": \"i can't see my refund in my history.\", \"completion\": \" 0\"}\r\n",
      "{\"prompt\": \"i requested a refund but can't see it.\", \"completion\": \" 0\"}\r\n"
     ]
    }
   ],
   "source": [
    "!head fine_tune_data_num.jsonl"
   ]
  },
  {
   "cell_type": "code",
   "execution_count": 170,
   "id": "07d88f7f",
   "metadata": {},
   "outputs": [
    {
     "name": "stdout",
     "output_type": "stream",
     "text": [
      "Analyzing...\n",
      "\n",
      "- Your file contains 8622 prompt-completion pairs\n",
      "- Based on your data it seems like you're trying to fine-tune a model for classification\n",
      "- For classification, we recommend you try one of the faster and cheaper models, such as `ada`\n",
      "- For classification, you can estimate the expected model performance by keeping a held out dataset, which is not used for training\n",
      "- There are 4 duplicated prompt-completion sets. These are rows: [545, 1827, 2753, 5721]\n",
      "- Your data does not contain a common separator at the end of your prompts. Having a separator string appended to the end of the prompt makes it clearer to the fine-tuned model where the completion should begin. See https://beta.openai.com/docs/guides/fine-tuning/preparing-your-dataset for more detail and examples. If you intend to do open-ended generation, then you should leave the prompts empty\n",
      "\n",
      "Based on the analysis we will perform the following actions:\n",
      "- [Recommended] Remove 4 duplicate rows [Y/n]: Y\n",
      "- [Recommended] Add a suffix separator ` ->` to all prompts [Y/n]: Y\n",
      "/Users/somanagy/Library/Caches/pypoetry/virtualenvs/intent-detection-sBxw7ymE-py3.8/lib/python3.8/site-packages/openai/validators.py:215: SettingWithCopyWarning: \n",
      "A value is trying to be set on a copy of a slice from a DataFrame.\n",
      "Try using .loc[row_indexer,col_indexer] = value instead\n",
      "\n",
      "See the caveats in the documentation: https://pandas.pydata.org/pandas-docs/stable/user_guide/indexing.html#returning-a-view-versus-a-copy\n",
      "  x[\"prompt\"] += suffix\n",
      "- [Recommended] Would you like to split into training and validation set? [Y/n]: Y\n",
      "\n",
      "\n",
      "Your data will be written to a new JSONL file. Proceed [Y/n]: Y\n",
      "\n",
      "Wrote modified files to `fine_tune_data_num_prepared_train.jsonl` and `fine_tune_data_num_prepared_valid.jsonl`\n",
      "Feel free to take a look!\n",
      "\n",
      "Now use that file when fine-tuning:\n",
      "> openai api fine_tunes.create -t \"fine_tune_data_num_prepared_train.jsonl\" -v \"fine_tune_data_num_prepared_valid.jsonl\" --compute_classification_metrics --classification_n_classes 77\n",
      "\n",
      "After you’ve fine-tuned a model, remember that your prompt has to end with the indicator string ` ->` for the model to start generating completions, rather than continuing with the prompt.\n",
      "Once your model starts training, it'll approximately take 3.49 hours to train a `curie` model, and less for `ada` and `babbage`. Queue will approximately take half an hour per job ahead of you.\n"
     ]
    }
   ],
   "source": [
    "!openai tools fine_tunes.prepare_data -f fine_tune_data_num.jsonl -q"
   ]
  },
  {
   "cell_type": "code",
   "execution_count": 171,
   "id": "7adc0392",
   "metadata": {},
   "outputs": [
    {
     "name": "stdout",
     "output_type": "stream",
     "text": [
      "Upload progress: 100%|███████████████████████| 729k/729k [00:00<00:00, 322Mit/s]\n",
      "Uploaded file from fine_tune_data_num_prepared_train.jsonl: file-OohoSsfuEfDi5NpDjL9QFWk4\n",
      "Upload progress: 100%|█████████████████████| 96.2k/96.2k [00:00<00:00, 145Mit/s]\n",
      "Uploaded file from fine_tune_data_num_prepared_valid.jsonl: file-6XIHAbKJ8rTaM7h3b1FogUMC\n",
      "Created fine-tune: ft-pYuHw6vc6DwCm0ZDWc5yAzcC\n",
      "Streaming events until fine-tuning is complete...\n",
      "\n",
      "(Ctrl-C will interrupt the stream, but not cancel the fine-tune)\n",
      "[2022-05-16 21:47:06] Created fine-tune: ft-pYuHw6vc6DwCm0ZDWc5yAzcC\n",
      "\n",
      "Stream interrupted (client disconnected).\n",
      "To resume the stream, run:\n",
      "\n",
      "  openai api fine_tunes.follow -i ft-pYuHw6vc6DwCm0ZDWc5yAzcC\n",
      "\n"
     ]
    }
   ],
   "source": [
    "!openai api fine_tunes.create -t \"fine_tune_data_num_prepared_train.jsonl\" -v \"fine_tune_data_num_prepared_valid.jsonl\" --compute_classification_metrics --classification_n_classes 77  -m curie"
   ]
  },
  {
   "cell_type": "code",
   "execution_count": 181,
   "id": "7c6ca67a",
   "metadata": {},
   "outputs": [],
   "source": [
    "mapping_df = pd.DataFrame(train_sentences)\n",
    "mapping_df[\"ind\"] = list(range(77))\n",
    "mapping_df.reset_index()[['intent', 'ind']].to_json(\"label_num_mapping.json\")"
   ]
  },
  {
   "cell_type": "code",
   "execution_count": 183,
   "id": "bdaf5be2",
   "metadata": {},
   "outputs": [
    {
     "name": "stdout",
     "output_type": "stream",
     "text": [
      "[2022-05-16 21:47:06] Created fine-tune: ft-pYuHw6vc6DwCm0ZDWc5yAzcC\n",
      "[2022-05-16 22:02:31] Fine-tune costs $1.46\n",
      "[2022-05-16 22:02:31] Fine-tune enqueued. Queue number: 0\n",
      "[2022-05-16 22:02:34] Fine-tune started\n",
      "[2022-05-16 22:12:18] Completed epoch 1/4\n",
      "[2022-05-16 22:21:33] Completed epoch 2/4\n",
      "[2022-05-16 22:30:46] Completed epoch 3/4\n",
      "[2022-05-16 22:39:55] Completed epoch 4/4\n",
      "[2022-05-16 22:40:36] Uploaded model: curie:ft-personal-2022-05-16-20-40-34\n",
      "[2022-05-16 22:40:40] Uploaded result file: file-s7bUz51bJrKHahSgX89TjfTj\n",
      "[2022-05-16 22:40:40] Fine-tune succeeded\n",
      "\n",
      "Job complete! Status: succeeded 🎉\n",
      "Try out your fine-tuned model:\n",
      "\n",
      "openai api completions.create -m curie:ft-personal-2022-05-16-20-40-34 -p <YOUR_PROMPT>\n"
     ]
    }
   ],
   "source": [
    "!openai api fine_tunes.follow -i ft-pYuHw6vc6DwCm0ZDWc5yAzcC"
   ]
  },
  {
   "cell_type": "code",
   "execution_count": 184,
   "id": "d8080963",
   "metadata": {},
   "outputs": [
    {
     "name": "stdout",
     "output_type": "stream",
     "text": [
      "can i verify the source of my funds? -> 70 70 70 70 70 70 70 70 70 70 70 70 70 70 70 70"
     ]
    }
   ],
   "source": [
    "!openai api completions.create -m curie:ft-personal-2022-05-16-20-40-34 -p \"can i verify the source of my funds? ->\""
   ]
  },
  {
   "cell_type": "code",
   "execution_count": 186,
   "id": "67cf344a",
   "metadata": {},
   "outputs": [
    {
     "data": {
      "text/html": [
       "<div>\n",
       "<style scoped>\n",
       "    .dataframe tbody tr th:only-of-type {\n",
       "        vertical-align: middle;\n",
       "    }\n",
       "\n",
       "    .dataframe tbody tr th {\n",
       "        vertical-align: top;\n",
       "    }\n",
       "\n",
       "    .dataframe thead th {\n",
       "        text-align: right;\n",
       "    }\n",
       "</style>\n",
       "<table border=\"1\" class=\"dataframe\">\n",
       "  <thead>\n",
       "    <tr style=\"text-align: right;\">\n",
       "      <th></th>\n",
       "      <th>text</th>\n",
       "      <th>ind</th>\n",
       "    </tr>\n",
       "    <tr>\n",
       "      <th>intent</th>\n",
       "      <th></th>\n",
       "      <th></th>\n",
       "    </tr>\n",
       "  </thead>\n",
       "  <tbody>\n",
       "    <tr>\n",
       "      <th>verify_source_of_funds</th>\n",
       "      <td>[i would like to know how to work out where my...</td>\n",
       "      <td>70</td>\n",
       "    </tr>\n",
       "  </tbody>\n",
       "</table>\n",
       "</div>"
      ],
      "text/plain": [
       "                                                                     text  ind\n",
       "intent                                                                        \n",
       "verify_source_of_funds  [i would like to know how to work out where my...   70"
      ]
     },
     "execution_count": 186,
     "metadata": {},
     "output_type": "execute_result"
    }
   ],
   "source": [
    "mapping_df[mapping_df.ind == 70]"
   ]
  },
  {
   "cell_type": "code",
   "execution_count": 188,
   "id": "2d8e03d2",
   "metadata": {},
   "outputs": [
    {
     "data": {
      "text/plain": [
       "<OpenAIObject text_completion id=cmpl-58cLCnU65xMEaHy95UFhX1fBax0dx at 0x7feec41b0810> JSON: {\n",
       "  \"choices\": [\n",
       "    {\n",
       "      \"finish_reason\": \"length\",\n",
       "      \"index\": 0,\n",
       "      \"logprobs\": null,\n",
       "      \"text\": \" 70\"\n",
       "    }\n",
       "  ],\n",
       "  \"created\": 1652735690,\n",
       "  \"id\": \"cmpl-58cLCnU65xMEaHy95UFhX1fBax0dx\",\n",
       "  \"model\": \"curie:ft-personal-2022-05-16-20-40-34\",\n",
       "  \"object\": \"text_completion\"\n",
       "}"
      ]
     },
     "execution_count": 188,
     "metadata": {},
     "output_type": "execute_result"
    }
   ],
   "source": [
    "ft_model = \"curie:ft-personal-2022-05-16-20-40-34\"\n",
    "\n",
    "res = openai.Completion.create(model=ft_model, prompt=\"can i verify the source of my funds?\" + ' ->', max_tokens=1, temperature=0)\n",
    "res"
   ]
  },
  {
   "cell_type": "code",
   "execution_count": 189,
   "id": "5e7432e6",
   "metadata": {},
   "outputs": [
    {
     "name": "stdout",
     "output_type": "stream",
     "text": [
      "\u001b[34m\u001b[1mwandb\u001b[0m: Currently logged in as: \u001b[33mnsoma\u001b[0m. Use \u001b[1m`wandb login --relogin`\u001b[0m to force relogin\n",
      "\u001b[34m\u001b[1mwandb\u001b[0m: Tracking run with wandb version 0.12.16\n",
      "\u001b[34m\u001b[1mwandb\u001b[0m: Run data is saved locally in \u001b[35m\u001b[1m/Users/somanagy/Desktop/repos/intent-detection/wandb/run-20220516_231522-ft-QoR0ZWwaUq6liNIOyPAD1PNR\u001b[0m\n",
      "\u001b[34m\u001b[1mwandb\u001b[0m: Run \u001b[1m`wandb offline`\u001b[0m to turn off syncing.\n",
      "\u001b[34m\u001b[1mwandb\u001b[0m: Syncing run \u001b[33mft-QoR0ZWwaUq6liNIOyPAD1PNR\u001b[0m\n",
      "\u001b[34m\u001b[1mwandb\u001b[0m: ⭐️ View project at \u001b[34m\u001b[4mhttps://wandb.ai/nsoma/GPT-3\u001b[0m\n",
      "\u001b[34m\u001b[1mwandb\u001b[0m: 🚀 View run at \u001b[34m\u001b[4mhttps://wandb.ai/nsoma/GPT-3/runs/ft-QoR0ZWwaUq6liNIOyPAD1PNR\u001b[0m\n",
      "File file-vdE2hDOtN4nYHLc7fujwUmtn could not be retrieved. Make sure you are allowed to download training/validation files\n",
      "File file-b1B5QMsbYZVXRDXN6o04OF4w could not be retrieved. Make sure you are allowed to download training/validation files\n",
      "\u001b[34m\u001b[1mwandb\u001b[0m: Waiting for W&B process to finish... \u001b[32m(success).\u001b[0m\n",
      "\u001b[34m\u001b[1mwandb\u001b[0m:                                                                                \n",
      "\u001b[34m\u001b[1mwandb\u001b[0m: \n",
      "\u001b[34m\u001b[1mwandb\u001b[0m: Run history:\n",
      "\u001b[34m\u001b[1mwandb\u001b[0m:             elapsed_examples ▁▁▁▂▂▂▂▂▂▃▃▃▃▃▃▄▄▄▄▄▅▅▅▅▅▅▆▆▆▆▆▇▇▇▇▇▇███\n",
      "\u001b[34m\u001b[1mwandb\u001b[0m:               elapsed_tokens ▁▁▁▂▂▂▂▂▂▃▃▃▃▃▃▄▄▄▄▄▅▅▅▅▅▅▆▆▆▆▆▇▇▇▇▇▇███\n",
      "\u001b[34m\u001b[1mwandb\u001b[0m:                training_loss █▃▂▂▂▂▂▂▁▂▂▂▃▂▁▂▂▂▂▁▁▁▂▂▂▂▂▂▂▁▁▂▁▂▁▁▂▂▁▁\n",
      "\u001b[34m\u001b[1mwandb\u001b[0m:   training_sequence_accuracy ▁▃▆▆▆▅███▇▇█▅██▇▇▇▇▇██▇█████▇███████████\n",
      "\u001b[34m\u001b[1mwandb\u001b[0m:      training_token_accuracy ▁▅▇▇▇▇██████▇██▇▇▇▇▇██▇█████▇███████████\n",
      "\u001b[34m\u001b[1mwandb\u001b[0m:              validation_loss █▃▂▂▂▂▁▂▂▂▂▂▁▁▂▁▁▁▁▁▁���▂▁▁▁▁▁▁▂▁▁▁▁▁▂▁▁▁▁\n",
      "\u001b[34m\u001b[1mwandb\u001b[0m: validation_sequence_accuracy ▁▃▄▅▇▆█▆▆▆▅▇██▆▇█▇▇▇█████▇█▇█▆█▇█▆███▇▇▇\n",
      "\u001b[34m\u001b[1mwandb\u001b[0m:    validation_token_accuracy ▁▅▇▇█▇██▇█▇███▇██████████████████▇██████\n",
      "\u001b[34m\u001b[1mwandb\u001b[0m: \n",
      "\u001b[34m\u001b[1mwandb\u001b[0m: Run summary:\n",
      "\u001b[34m\u001b[1mwandb\u001b[0m:             elapsed_examples 30488.0\n",
      "\u001b[34m\u001b[1mwandb\u001b[0m:               elapsed_tokens 1287192.0\n",
      "\u001b[34m\u001b[1mwandb\u001b[0m:             fine_tuned_model curie:ft-personal-20...\n",
      "\u001b[34m\u001b[1mwandb\u001b[0m:                       status succeeded\n",
      "\u001b[34m\u001b[1mwandb\u001b[0m:                training_loss 0.06146\n",
      "\u001b[34m\u001b[1mwandb\u001b[0m:   training_sequence_accuracy 1.0\n",
      "\u001b[34m\u001b[1mwandb\u001b[0m:      training_token_accuracy 1.0\n",
      "\u001b[34m\u001b[1mwandb\u001b[0m:              validation_loss 0.07338\n",
      "\u001b[34m\u001b[1mwandb\u001b[0m: validation_sequence_accuracy 0.875\n",
      "\u001b[34m\u001b[1mwandb\u001b[0m:    validation_token_accuracy 0.97619\n",
      "\u001b[34m\u001b[1mwandb\u001b[0m: \n",
      "\u001b[34m\u001b[1mwandb\u001b[0m: Synced \u001b[33mft-QoR0ZWwaUq6liNIOyPAD1PNR\u001b[0m: \u001b[34m\u001b[4mhttps://wandb.ai/nsoma/GPT-3/runs/ft-QoR0ZWwaUq6liNIOyPAD1PNR\u001b[0m\n",
      "\u001b[34m\u001b[1mwandb\u001b[0m: Synced 5 W&B file(s), 0 media file(s), 1 artifact file(s) and 0 other file(s)\n",
      "\u001b[34m\u001b[1mwandb\u001b[0m: Find logs at: \u001b[35m\u001b[1m./wandb/run-20220516_231522-ft-QoR0ZWwaUq6liNIOyPAD1PNR/logs\u001b[0m\n",
      "\u001b[34m\u001b[1mwandb\u001b[0m: Tracking run with wandb version 0.12.16\n",
      "\u001b[34m\u001b[1mwandb\u001b[0m: Run data is saved locally in \u001b[35m\u001b[1m/Users/somanagy/Desktop/repos/intent-detection/wandb/run-20220516_231536-ft-pYuHw6vc6DwCm0ZDWc5yAzcC\u001b[0m\n",
      "\u001b[34m\u001b[1mwandb\u001b[0m: Run \u001b[1m`wandb offline`\u001b[0m to turn off syncing.\n",
      "\u001b[34m\u001b[1mwandb\u001b[0m: Syncing run \u001b[33mft-pYuHw6vc6DwCm0ZDWc5yAzcC\u001b[0m\n",
      "\u001b[34m\u001b[1mwandb\u001b[0m: ⭐️ View project at \u001b[34m\u001b[4mhttps://wandb.ai/nsoma/GPT-3\u001b[0m\n",
      "\u001b[34m\u001b[1mwandb\u001b[0m: 🚀 View run at \u001b[34m\u001b[4mhttps://wandb.ai/nsoma/GPT-3/runs/ft-pYuHw6vc6DwCm0ZDWc5yAzcC\u001b[0m\n",
      "File file-OohoSsfuEfDi5NpDjL9QFWk4 could not be retrieved. Make sure you are allowed to download training/validation files\n",
      "File file-6XIHAbKJ8rTaM7h3b1FogUMC could not be retrieved. Make sure you are allowed to download training/validation files\n",
      "\u001b[34m\u001b[1mwandb\u001b[0m: Waiting for W&B process to finish... \u001b[32m(success).\u001b[0m\n",
      "\u001b[34m\u001b[1mwandb\u001b[0m:                                                                                \n",
      "\u001b[34m\u001b[1mwandb\u001b[0m: \n",
      "\u001b[34m\u001b[1mwandb\u001b[0m: Run history:\n",
      "\u001b[34m\u001b[1mwandb\u001b[0m:          classification/accuracy ▁▄▇█\n",
      "\u001b[34m\u001b[1mwandb\u001b[0m: classification/weighted_f1_score ▁▄██\n",
      "\u001b[34m\u001b[1mwandb\u001b[0m:                 elapsed_examples ▁▁▁▂▂▂▂▂▂▃▃▃▃▃▃▄▄▄▄▄▅▅▅▅▅▅▆▆▆▆▆▇▇▇▇▇▇███\n",
      "\u001b[34m\u001b[1mwandb\u001b[0m:                   elapsed_tokens ▁▁▁▂▂▂▂▂▂▃▃▃▃▃▃▄▄▄▄▄▅▅▅▅▅▅▆▆▆▆▆▇▇▇▇▇▇███\n",
      "\u001b[34m\u001b[1mwandb\u001b[0m:                    training_loss ▇█▃▃▃▃▂▂▂▂▂▂▂▂▂▁▁▂▂▂▃▂▂▁▂▂▁▁▂▂▂▂▂▁▁▁▁▂▁▂\n",
      "\u001b[34m\u001b[1mwandb\u001b[0m:       training_sequence_accuracy ▁▂▆▅▆▅▇█▆▇██▆██▇█▇▇▇▇█▆█████████████████\n",
      "\u001b[34m\u001b[1mwandb\u001b[0m:          training_token_accuracy ▁▂▆▅▆▅▇█▆▇██▆██▇█▇▇▇▇█▆█████████████████\n",
      "\u001b[34m\u001b[1mwandb\u001b[0m:                  validation_loss █▃▂▂▂▂▂▂▂▁▁▁▂▂▁▁▂▃▁▂▂▁▁▂▂▂▂▂▂▁▂▁▁▂▁▁▁▂▁▂\n",
      "\u001b[34m\u001b[1mwandb\u001b[0m:     validation_sequence_accuracy ▁▁▂▇▆▆▇▅▅▇█▇█▆██▅▇█▇█▇██▇▇▇▇▇▇██▇▇███▇██\n",
      "\u001b[34m\u001b[1mwandb\u001b[0m:        validation_token_accuracy ▁▁▂▇▆▆▇▅▅▇█▇█▆██▅▇█▇█▇██▇▇▇▇▇▇██▇▇███▇██\n",
      "\u001b[34m\u001b[1mwandb\u001b[0m: \n",
      "\u001b[34m\u001b[1mwandb\u001b[0m: Run summary:\n",
      "\u001b[34m\u001b[1mwandb\u001b[0m:          classification/accuracy 0.924\n",
      "\u001b[34m\u001b[1mwandb\u001b[0m: classification/weighted_f1_score 0.92337\n",
      "\u001b[34m\u001b[1mwandb\u001b[0m:                 elapsed_examples 30488.0\n",
      "\u001b[34m\u001b[1mwandb\u001b[0m:                   elapsed_tokens 1085144.0\n",
      "\u001b[34m\u001b[1mwandb\u001b[0m:                 fine_tuned_model curie:ft-personal-20...\n",
      "\u001b[34m\u001b[1mwandb\u001b[0m:                           status succeeded\n",
      "\u001b[34m\u001b[1mwandb\u001b[0m:                    training_loss 0.05427\n",
      "\u001b[34m\u001b[1mwandb\u001b[0m:       training_sequence_accuracy 1.0\n",
      "\u001b[34m\u001b[1mwandb\u001b[0m:          training_token_accuracy 1.0\n",
      "\u001b[34m\u001b[1mwandb\u001b[0m:                  validation_loss 0.12012\n",
      "\u001b[34m\u001b[1mwandb\u001b[0m:     validation_sequence_accuracy 1.0\n",
      "\u001b[34m\u001b[1mwandb\u001b[0m:        validation_token_accuracy 1.0\n",
      "\u001b[34m\u001b[1mwandb\u001b[0m: \n",
      "\u001b[34m\u001b[1mwandb\u001b[0m: Synced \u001b[33mft-pYuHw6vc6DwCm0ZDWc5yAzcC\u001b[0m: \u001b[34m\u001b[4mhttps://wandb.ai/nsoma/GPT-3/runs/ft-pYuHw6vc6DwCm0ZDWc5yAzcC\u001b[0m\n",
      "\u001b[34m\u001b[1mwandb\u001b[0m: Synced 5 W&B file(s), 0 media file(s), 1 artifact file(s) and 0 other file(s)\n",
      "\u001b[34m\u001b[1mwandb\u001b[0m: Find logs at: \u001b[35m\u001b[1m./wandb/run-20220516_231536-ft-pYuHw6vc6DwCm0ZDWc5yAzcC/logs\u001b[0m\n",
      "🎉 wandb sync completed successfully\n"
     ]
    }
   ],
   "source": [
    "!openai wandb sync"
   ]
  },
  {
   "cell_type": "code",
   "execution_count": 191,
   "id": "835d7544",
   "metadata": {},
   "outputs": [],
   "source": [
    "def classify_finetuned(text):\n",
    "\n",
    "    result = openai.Completion.create(\n",
    "        model=\"curie:ft-personal-2022-05-16-20-40-34\",\n",
    "        prompt=text + \" ->\",\n",
    "        max_tokens=1\n",
    "    )\n",
    "        \n",
    "    return result"
   ]
  },
  {
   "cell_type": "code",
   "execution_count": 192,
   "id": "030736fe",
   "metadata": {},
   "outputs": [
    {
     "data": {
      "text/plain": [
       "<OpenAIObject text_completion id=cmpl-58cP7ZWwCsp9ERpzNYI0fHHLUiPbC at 0x7feebf753810> JSON: {\n",
       "  \"choices\": [\n",
       "    {\n",
       "      \"finish_reason\": \"length\",\n",
       "      \"index\": 0,\n",
       "      \"logprobs\": null,\n",
       "      \"text\": \" 70\"\n",
       "    }\n",
       "  ],\n",
       "  \"created\": 1652735933,\n",
       "  \"id\": \"cmpl-58cP7ZWwCsp9ERpzNYI0fHHLUiPbC\",\n",
       "  \"model\": \"curie:ft-personal-2022-05-16-20-40-34\",\n",
       "  \"object\": \"text_completion\"\n",
       "}"
      ]
     },
     "execution_count": 192,
     "metadata": {},
     "output_type": "execute_result"
    }
   ],
   "source": [
    "classify_finetuned(\"can i verify the source of my funds?\")"
   ]
  },
  {
   "cell_type": "code",
   "execution_count": 193,
   "id": "444d87fd",
   "metadata": {},
   "outputs": [
    {
     "name": "stderr",
     "output_type": "stream",
     "text": [
      "770it [47:20,  3.69s/it]\n"
     ]
    }
   ],
   "source": [
    "prediction_responses = []\n",
    "\n",
    "for i, rec in tqdm(sub_test_set.iterrows()):\n",
    "    text = rec.text\n",
    "    orig_intent = rec.intent\n",
    "    \n",
    "    pred_response = classify_finetuned(text)\n",
    "    sleep(2)\n",
    "    \n",
    "    prediction_responses.append({\n",
    "        \"query_text\": text,\n",
    "        \"true_intent\": orig_intent,\n",
    "        \"pred_resp\": pred_response\n",
    "    })"
   ]
  },
  {
   "cell_type": "code",
   "execution_count": 197,
   "id": "e42da24e",
   "metadata": {},
   "outputs": [
    {
     "data": {
      "text/plain": [
       "0"
      ]
     },
     "execution_count": 197,
     "metadata": {},
     "output_type": "execute_result"
    }
   ],
   "source": [
    "int(\" 0\".lstrip())"
   ]
  },
  {
   "cell_type": "code",
   "execution_count": 214,
   "id": "e29313c1",
   "metadata": {},
   "outputs": [
    {
     "data": {
      "text/plain": [
       "'verify_source_of_funds'"
      ]
     },
     "execution_count": 214,
     "metadata": {},
     "output_type": "execute_result"
    }
   ],
   "source": [
    "def pred_to_label(pred):\n",
    "    try:\n",
    "        ind = int(pred.lstrip())\n",
    "        return mapping_df[mapping_df.ind == ind].index[0]\n",
    "    except:\n",
    "        return \"NA\"\n",
    "    \n",
    "pred_to_label(\" 70\")"
   ]
  },
  {
   "cell_type": "code",
   "execution_count": 201,
   "id": "a138e4ff",
   "metadata": {},
   "outputs": [
    {
     "data": {
      "text/plain": [
       "{'query_text': 'how can i see where my money comes from?',\n",
       " 'true_intent': 'verify_source_of_funds',\n",
       " 'pred_resp': <OpenAIObject text_completion id=cmpl-58cQBY45WXgyAVx66Ss0uYWSEm5Sg at 0x7feebf74aef0> JSON: {\n",
       "   \"choices\": [\n",
       "     {\n",
       "       \"finish_reason\": \"length\",\n",
       "       \"index\": 0,\n",
       "       \"logprobs\": null,\n",
       "       \"text\": \" 70\"\n",
       "     }\n",
       "   ],\n",
       "   \"created\": 1652735999,\n",
       "   \"id\": \"cmpl-58cQBY45WXgyAVx66Ss0uYWSEm5Sg\",\n",
       "   \"model\": \"curie:ft-personal-2022-05-16-20-40-34\",\n",
       "   \"object\": \"text_completion\"\n",
       " }}"
      ]
     },
     "execution_count": 201,
     "metadata": {},
     "output_type": "execute_result"
    }
   ],
   "source": [
    "prediction_responses[0]"
   ]
  },
  {
   "cell_type": "code",
   "execution_count": 215,
   "id": "d38fb7f0",
   "metadata": {},
   "outputs": [
    {
     "data": {
      "text/html": [
       "<div>\n",
       "<style scoped>\n",
       "    .dataframe tbody tr th:only-of-type {\n",
       "        vertical-align: middle;\n",
       "    }\n",
       "\n",
       "    .dataframe tbody tr th {\n",
       "        vertical-align: top;\n",
       "    }\n",
       "\n",
       "    .dataframe thead th {\n",
       "        text-align: right;\n",
       "    }\n",
       "</style>\n",
       "<table border=\"1\" class=\"dataframe\">\n",
       "  <thead>\n",
       "    <tr style=\"text-align: right;\">\n",
       "      <th></th>\n",
       "      <th>query_text</th>\n",
       "      <th>true_intent</th>\n",
       "      <th>pred_resp</th>\n",
       "      <th>pred_intent</th>\n",
       "    </tr>\n",
       "  </thead>\n",
       "  <tbody>\n",
       "    <tr>\n",
       "      <th>0</th>\n",
       "      <td>how can i see where my money comes from?</td>\n",
       "      <td>verify_source_of_funds</td>\n",
       "      <td>{'id': 'cmpl-58cQBY45WXgyAVx66Ss0uYWSEm5Sg', '...</td>\n",
       "      <td>verify_source_of_funds</td>\n",
       "    </tr>\n",
       "    <tr>\n",
       "      <th>1</th>\n",
       "      <td>i need the source of my funds verified. how do...</td>\n",
       "      <td>verify_source_of_funds</td>\n",
       "      <td>{'id': 'cmpl-58cQIFdiZsOToqpklRekYJAdteXjQ', '...</td>\n",
       "      <td>verify_source_of_funds</td>\n",
       "    </tr>\n",
       "    <tr>\n",
       "      <th>2</th>\n",
       "      <td>why does my money come from?</td>\n",
       "      <td>verify_source_of_funds</td>\n",
       "      <td>{'id': 'cmpl-58cQLvysGXZOUdy0BfXaHUaVrUpWV', '...</td>\n",
       "      <td>verify_source_of_funds</td>\n",
       "    </tr>\n",
       "    <tr>\n",
       "      <th>3</th>\n",
       "      <td>what do i need to do to verify the source of m...</td>\n",
       "      <td>verify_source_of_funds</td>\n",
       "      <td>{'id': 'cmpl-58cQOveVJ1slDjQmgvKd6x0R0rnl3', '...</td>\n",
       "      <td>verify_source_of_funds</td>\n",
       "    </tr>\n",
       "    <tr>\n",
       "      <th>4</th>\n",
       "      <td>can i verify the source of my funds?</td>\n",
       "      <td>verify_source_of_funds</td>\n",
       "      <td>{'id': 'cmpl-58cQZYDS33YOExdZd7fnWWdzXEEBR', '...</td>\n",
       "      <td>verify_source_of_funds</td>\n",
       "    </tr>\n",
       "  </tbody>\n",
       "</table>\n",
       "</div>"
      ],
      "text/plain": [
       "                                          query_text  ...             pred_intent\n",
       "0           how can i see where my money comes from?  ...  verify_source_of_funds\n",
       "1  i need the source of my funds verified. how do...  ...  verify_source_of_funds\n",
       "2                       why does my money come from?  ...  verify_source_of_funds\n",
       "3  what do i need to do to verify the source of m...  ...  verify_source_of_funds\n",
       "4               can i verify the source of my funds?  ...  verify_source_of_funds\n",
       "\n",
       "[5 rows x 4 columns]"
      ]
     },
     "execution_count": 215,
     "metadata": {},
     "output_type": "execute_result"
    }
   ],
   "source": [
    "res_df = pd.DataFrame(prediction_responses)\n",
    "res_df['true_intent'] = res_df['true_intent']\n",
    "res_df['pred_intent'] = res_df.pred_resp.apply(lambda x: pred_to_label(x['choices'][0]['text']))\n",
    "res_df.head()"
   ]
  },
  {
   "cell_type": "code",
   "execution_count": 216,
   "id": "f996c75e",
   "metadata": {},
   "outputs": [
    {
     "data": {
      "text/plain": [
       "0.9181818181818182"
      ]
     },
     "execution_count": 216,
     "metadata": {},
     "output_type": "execute_result"
    }
   ],
   "source": [
    "accuracy_score(res_df['true_intent'].tolist(), res_df['pred_intent'].tolist())"
   ]
  },
  {
   "cell_type": "code",
   "execution_count": 217,
   "id": "db7bbad6",
   "metadata": {},
   "outputs": [
    {
     "name": "stdout",
     "output_type": "stream",
     "text": [
      "                                                  precision    recall  f1-score   support\n",
      "\n",
      "                           Refund_not_showing_up       1.00      0.80      0.89        10\n",
      "                                activate_my_card       1.00      1.00      1.00        10\n",
      "                                       age_limit       1.00      1.00      1.00        10\n",
      "                         apple_pay_or_google_pay       1.00      0.90      0.95        10\n",
      "                                     atm_support       1.00      1.00      1.00        10\n",
      "                                automatic_top_up       0.82      0.90      0.86        10\n",
      "         balance_not_updated_after_bank_transfer       0.62      0.80      0.70        10\n",
      "balance_not_updated_after_cheque_or_cash_deposit       0.83      1.00      0.91        10\n",
      "                         beneficiary_not_allowed       0.89      0.80      0.84        10\n",
      "                                 cancel_transfer       1.00      0.90      0.95        10\n",
      "                            card_about_to_expire       1.00      0.90      0.95        10\n",
      "                                 card_acceptance       1.00      1.00      1.00        10\n",
      "                                    card_arrival       0.90      0.90      0.90        10\n",
      "                          card_delivery_estimate       0.90      0.90      0.90        10\n",
      "                                    card_linking       1.00      0.90      0.95        10\n",
      "                                card_not_working       1.00      1.00      1.00        10\n",
      "                        card_payment_fee_charged       0.82      0.90      0.86        10\n",
      "                     card_payment_not_recognised       0.89      0.80      0.84        10\n",
      "                card_payment_wrong_exchange_rate       0.83      1.00      0.91        10\n",
      "                                  card_swallowed       1.00      0.90      0.95        10\n",
      "                          cash_withdrawal_charge       1.00      1.00      1.00        10\n",
      "                  cash_withdrawal_not_recognised       0.77      1.00      0.87        10\n",
      "                                      change_pin       0.91      1.00      0.95        10\n",
      "                                compromised_card       0.90      0.90      0.90        10\n",
      "                         contactless_not_working       0.89      0.80      0.84        10\n",
      "                                 country_support       1.00      1.00      1.00        10\n",
      "                           declined_card_payment       0.90      0.90      0.90        10\n",
      "                        declined_cash_withdrawal       0.83      1.00      0.91        10\n",
      "                               declined_transfer       0.78      0.70      0.74        10\n",
      "             direct_debit_payment_not_recognised       0.88      0.70      0.78        10\n",
      "                          disposable_card_limits       0.90      0.90      0.90        10\n",
      "                           edit_personal_details       1.00      1.00      1.00        10\n",
      "                                 exchange_charge       1.00      1.00      1.00        10\n",
      "                                   exchange_rate       0.90      0.90      0.90        10\n",
      "                                exchange_via_app       0.80      0.80      0.80        10\n",
      "                       extra_charge_on_statement       0.90      0.90      0.90        10\n",
      "                                 failed_transfer       0.82      0.90      0.86        10\n",
      "                           fiat_currency_support       0.91      1.00      0.95        10\n",
      "                     get_disposable_virtual_card       1.00      0.80      0.89        10\n",
      "                               get_physical_card       0.91      1.00      0.95        10\n",
      "                              getting_spare_card       1.00      1.00      1.00        10\n",
      "                            getting_virtual_card       0.90      0.90      0.90        10\n",
      "                             lost_or_stolen_card       0.83      1.00      0.91        10\n",
      "                            lost_or_stolen_phone       0.91      1.00      0.95        10\n",
      "                             order_physical_card       0.91      1.00      0.95        10\n",
      "                              passcode_forgotten       1.00      1.00      1.00        10\n",
      "                            pending_card_payment       1.00      0.90      0.95        10\n",
      "                         pending_cash_withdrawal       1.00      0.90      0.95        10\n",
      "                                  pending_top_up       1.00      1.00      1.00        10\n",
      "                                pending_transfer       1.00      0.70      0.82        10\n",
      "                                     pin_blocked       1.00      0.80      0.89        10\n",
      "                                 receiving_money       0.75      0.90      0.82        10\n",
      "                                  request_refund       0.83      1.00      0.91        10\n",
      "                          reverted_card_payment?       0.78      0.70      0.74        10\n",
      "                  supported_cards_and_currencies       0.90      0.90      0.90        10\n",
      "                               terminate_account       1.00      1.00      1.00        10\n",
      "                  top_up_by_bank_transfer_charge       1.00      0.90      0.95        10\n",
      "                           top_up_by_card_charge       1.00      1.00      1.00        10\n",
      "                        top_up_by_cash_or_cheque       1.00      1.00      1.00        10\n",
      "                                   top_up_failed       0.77      1.00      0.87        10\n",
      "                                   top_up_limits       0.91      1.00      0.95        10\n",
      "                                 top_up_reverted       0.89      0.80      0.84        10\n",
      "                              topping_up_by_card       1.00      0.90      0.95        10\n",
      "                       transaction_charged_twice       0.91      1.00      0.95        10\n",
      "                            transfer_fee_charged       0.90      0.90      0.90        10\n",
      "                           transfer_into_account       0.90      0.90      0.90        10\n",
      "              transfer_not_received_by_recipient       1.00      0.80      0.89        10\n",
      "                                 transfer_timing       0.91      1.00      0.95        10\n",
      "                       unable_to_verify_identity       1.00      0.90      0.95        10\n",
      "                              verify_my_identity       0.82      0.90      0.86        10\n",
      "                          verify_source_of_funds       1.00      1.00      1.00        10\n",
      "                                   verify_top_up       1.00      1.00      1.00        10\n",
      "                        virtual_card_not_working       1.00      0.80      0.89        10\n",
      "                              visa_or_mastercard       1.00      0.90      0.95        10\n",
      "                             why_verify_identity       0.90      0.90      0.90        10\n",
      "                   wrong_amount_of_cash_received       1.00      1.00      1.00        10\n",
      "         wrong_exchange_rate_for_cash_withdrawal       1.00      0.90      0.95        10\n",
      "\n",
      "                                        accuracy                           0.92       770\n",
      "                                       macro avg       0.92      0.92      0.92       770\n",
      "                                    weighted avg       0.92      0.92      0.92       770\n",
      "\n"
     ]
    }
   ],
   "source": [
    "print(classification_report(res_df['true_intent'].tolist(), res_df['pred_intent'].tolist()))"
   ]
  },
  {
   "cell_type": "code",
   "execution_count": 218,
   "id": "77e5cd9c",
   "metadata": {},
   "outputs": [],
   "source": [
    "res_df.to_json(\"GPT3_full_finetuned.json\")"
   ]
  },
  {
   "cell_type": "code",
   "execution_count": 219,
   "id": "df2f1031",
   "metadata": {},
   "outputs": [
    {
     "data": {
      "text/html": [
       "Tracking run with wandb version 0.12.16"
      ],
      "text/plain": [
       "<IPython.core.display.HTML object>"
      ]
     },
     "metadata": {},
     "output_type": "display_data"
    },
    {
     "data": {
      "text/html": [
       "Run data is saved locally in <code>/Users/somanagy/Desktop/repos/intent-detection/wandb/run-20220517_065043-14db0qnq</code>"
      ],
      "text/plain": [
       "<IPython.core.display.HTML object>"
      ]
     },
     "metadata": {},
     "output_type": "display_data"
    },
    {
     "data": {
      "text/html": [
       "Syncing run <strong><a href=\"https://wandb.ai/nsoma/intent-detection/runs/14db0qnq\" target=\"_blank\">smart-armadillo-9</a></strong> to <a href=\"https://wandb.ai/nsoma/intent-detection\" target=\"_blank\">Weights & Biases</a> (<a href=\"https://wandb.me/run\" target=\"_blank\">docs</a>)<br/>"
      ],
      "text/plain": [
       "<IPython.core.display.HTML object>"
      ]
     },
     "metadata": {},
     "output_type": "display_data"
    },
    {
     "data": {
      "text/html": [
       "Waiting for W&B process to finish... <strong style=\"color:green\">(success).</strong>"
      ],
      "text/plain": [
       "<IPython.core.display.HTML object>"
      ]
     },
     "metadata": {},
     "output_type": "display_data"
    },
    {
     "data": {
      "application/vnd.jupyter.widget-view+json": {
       "model_id": "",
       "version_major": 2,
       "version_minor": 0
      },
      "text/plain": [
       "VBox(children=(Label(value='0.001 MB of 0.001 MB uploaded (0.000 MB deduped)\\r'), FloatProgress(value=1.0, max…"
      ]
     },
     "metadata": {},
     "output_type": "display_data"
    },
    {
     "data": {
      "text/html": [
       "<style>\n",
       "    table.wandb td:nth-child(1) { padding: 0 10px; text-align: left ; width: auto;} td:nth-child(2) {text-align: left ; width: 100%}\n",
       "    .wandb-row { display: flex; flex-direction: row; flex-wrap: wrap; justify-content: flex-start; width: 100% }\n",
       "    .wandb-col { display: flex; flex-direction: column; flex-basis: 100%; flex: 1; padding: 10px; }\n",
       "    </style>\n",
       "<div class=\"wandb-row\"><div class=\"wandb-col\"><h3>Run history:</h3><br/><table class=\"wandb\"><tr><td>test_accuracy</td><td>▁</td></tr><tr><td>test_f1_score</td><td>▁</td></tr></table><br/></div><div class=\"wandb-col\"><h3>Run summary:</h3><br/><table class=\"wandb\"><tr><td>test_accuracy</td><td>0.91818</td></tr><tr><td>test_f1_score</td><td>0.91821</td></tr></table><br/></div></div>"
      ],
      "text/plain": [
       "<IPython.core.display.HTML object>"
      ]
     },
     "metadata": {},
     "output_type": "display_data"
    },
    {
     "data": {
      "text/html": [
       "Synced <strong style=\"color:#cdcd00\">smart-armadillo-9</strong>: <a href=\"https://wandb.ai/nsoma/intent-detection/runs/14db0qnq\" target=\"_blank\">https://wandb.ai/nsoma/intent-detection/runs/14db0qnq</a><br/>Synced 4 W&B file(s), 0 media file(s), 0 artifact file(s) and 0 other file(s)"
      ],
      "text/plain": [
       "<IPython.core.display.HTML object>"
      ]
     },
     "metadata": {},
     "output_type": "display_data"
    },
    {
     "data": {
      "text/html": [
       "Find logs at: <code>./wandb/run-20220517_065043-14db0qnq/logs</code>"
      ],
      "text/plain": [
       "<IPython.core.display.HTML object>"
      ]
     },
     "metadata": {},
     "output_type": "display_data"
    }
   ],
   "source": [
    "wandb.init(project=\"intent-detection\", entity='nsoma')\n",
    "\n",
    "wandb.run.name = \"GPT-3 fine-tuned classification\"\n",
    "\n",
    "wandb.log({\"test_accuracy\": accuracy_score(res_df['true_intent'].tolist(), res_df['pred_intent'].tolist()),\n",
    "           \"test_f1_score\": f1_score(res_df['true_intent'].tolist(), res_df['pred_intent'].tolist(), average='weighted')})\n",
    "\n",
    "wandb.finish()"
   ]
  },
  {
   "cell_type": "markdown",
   "id": "e8b090c7",
   "metadata": {},
   "source": [
    "## Full training dataset"
   ]
  },
  {
   "cell_type": "code",
   "execution_count": 229,
   "id": "7aeea2bb",
   "metadata": {},
   "outputs": [],
   "source": [
    "from random import shuffle"
   ]
  },
  {
   "cell_type": "code",
   "execution_count": 230,
   "id": "3c2859ef",
   "metadata": {},
   "outputs": [],
   "source": [
    "valid_sentences = df[df.ds_name == 'valid'].groupby(\"intent\").text.apply(list)\n",
    "\n",
    "transformed_res = []\n",
    "\n",
    "for intent, sents in valid_sentences.iteritems():\n",
    "    ind = mapping_df.loc[intent].ind\n",
    "    for sent in sents:\n",
    "        transformed_res.append({\"prompt\": sent, \"completion\": f\" {ind}\"})\n",
    "\n",
    "shuffle(transformed_res)\n",
    "\n",
    "with open(\"full_original_valid_gpt.jsonl\", \"w\") as f:\n",
    "        for entry in transformed_res:\n",
    "            json.dump(entry, f)\n",
    "            f.write('\\n')"
   ]
  },
  {
   "cell_type": "code",
   "execution_count": 232,
   "id": "1311bcbb",
   "metadata": {},
   "outputs": [
    {
     "name": "stdout",
     "output_type": "stream",
     "text": [
      "Upload progress: 100%|███████████████████████| 825k/825k [00:00<00:00, 255Mit/s]\n",
      "Uploaded file from full_original_train_gpt.jsonl: file-BICtTHuvukXUORWkFO87NI93\n",
      "Upload progress: 100%|███████████████████████| 142k/142k [00:00<00:00, 204Mit/s]\n",
      "Uploaded file from full_original_valid_gpt.jsonl: file-7aX3oOqATaR0RF4F5flOuT8s\n",
      "Created fine-tune: ft-tz7iA9qmnCHpX2lmqBNYqhkC\n",
      "Streaming events until fine-tuning is complete...\n",
      "\n",
      "(Ctrl-C will interrupt the stream, but not cancel the fine-tune)\n",
      "[2022-05-17 09:27:49] Created fine-tune: ft-tz7iA9qmnCHpX2lmqBNYqhkC\n",
      "[2022-05-17 09:35:22] Fine-tune costs $1.65\n",
      "[2022-05-17 09:35:22] Fine-tune enqueued. Queue number: 0\n",
      "[2022-05-17 09:35:27] Fine-tune started\n",
      "[2022-05-17 09:41:12] Completed epoch 1/4\n",
      "\n",
      "Stream interrupted (client disconnected).\n",
      "To resume the stream, run:\n",
      "\n",
      "  openai api fine_tunes.follow -i ft-tz7iA9qmnCHpX2lmqBNYqhkC\n",
      "\n"
     ]
    }
   ],
   "source": [
    "!openai api fine_tunes.create -t \"full_original_train_gpt.jsonl\" -v \"full_original_valid_gpt.jsonl\" --compute_classification_metrics --classification_n_classes 77  -m curie"
   ]
  },
  {
   "cell_type": "code",
   "execution_count": 233,
   "id": "8c0165ec",
   "metadata": {},
   "outputs": [
    {
     "name": "stdout",
     "output_type": "stream",
     "text": [
      "[2022-05-17 09:27:49] Created fine-tune: ft-tz7iA9qmnCHpX2lmqBNYqhkC\n",
      "[2022-05-17 09:35:22] Fine-tune costs $1.65\n",
      "[2022-05-17 09:35:22] Fine-tune enqueued. Queue number: 0\n",
      "[2022-05-17 09:35:27] Fine-tune started\n",
      "[2022-05-17 09:41:12] Completed epoch 1/4\n",
      "[2022-05-17 09:51:53] Completed epoch 3/4\n",
      "[2022-05-17 10:01:38] Uploaded model: curie:ft-personal-2022-05-17-08-01-36\n",
      "[2022-05-17 10:01:41] Uploaded result file: file-rRbDlgcS6wuGK597cSaMv9CR\n",
      "[2022-05-17 10:01:41] Fine-tune succeeded\n",
      "\n",
      "Job complete! Status: succeeded 🎉\n",
      "Try out your fine-tuned model:\n",
      "\n",
      "openai api completions.create -m curie:ft-personal-2022-05-17-08-01-36 -p <YOUR_PROMPT>\n"
     ]
    }
   ],
   "source": [
    "!openai api fine_tunes.follow -i ft-tz7iA9qmnCHpX2lmqBNYqhkC"
   ]
  },
  {
   "cell_type": "code",
   "execution_count": 237,
   "id": "16f50161",
   "metadata": {},
   "outputs": [
    {
     "name": "stdout",
     "output_type": "stream",
     "text": [
      "can i verify the source of my funds? -> 70 70 70 70 70 70 70 70 70 70 70 70 70 70 70 70"
     ]
    }
   ],
   "source": [
    "!openai api completions.create -m curie:ft-personal-2022-05-17-08-01-36 -p \"can i verify the source of my funds? ->\""
   ]
  },
  {
   "cell_type": "code",
   "execution_count": 238,
   "id": "09620241",
   "metadata": {},
   "outputs": [
    {
     "data": {
      "text/plain": [
       "3080"
      ]
     },
     "execution_count": 238,
     "metadata": {},
     "output_type": "execute_result"
    }
   ],
   "source": [
    "full_test_set = df[(df.ds_name == 'test')]\n",
    "len(full_test_set)"
   ]
  },
  {
   "cell_type": "code",
   "execution_count": 239,
   "id": "ecb0a0c0",
   "metadata": {},
   "outputs": [
    {
     "name": "stdout",
     "output_type": "stream",
     "text": [
      "\u001b[34m\u001b[1mwandb\u001b[0m: Currently logged in as: \u001b[33mnsoma\u001b[0m. Use \u001b[1m`wandb login --relogin`\u001b[0m to force relogin\n",
      "\u001b[34m\u001b[1mwandb\u001b[0m: Tracking run with wandb version 0.12.16\n",
      "\u001b[34m\u001b[1mwandb\u001b[0m: Run data is saved locally in \u001b[35m\u001b[1m/Users/somanagy/Desktop/repos/intent-detection/wandb/run-20220517_132647-ft-tz7iA9qmnCHpX2lmqBNYqhkC\u001b[0m\n",
      "\u001b[34m\u001b[1mwandb\u001b[0m: Run \u001b[1m`wandb offline`\u001b[0m to turn off syncing.\n",
      "\u001b[34m\u001b[1mwandb\u001b[0m: Syncing run \u001b[33mft-tz7iA9qmnCHpX2lmqBNYqhkC\u001b[0m\n",
      "\u001b[34m\u001b[1mwandb\u001b[0m: ⭐️ View project at \u001b[34m\u001b[4mhttps://wandb.ai/nsoma/GPT-3\u001b[0m\n",
      "\u001b[34m\u001b[1mwandb\u001b[0m: 🚀 View run at \u001b[34m\u001b[4mhttps://wandb.ai/nsoma/GPT-3/runs/ft-tz7iA9qmnCHpX2lmqBNYqhkC\u001b[0m\n",
      "File file-BICtTHuvukXUORWkFO87NI93 could not be retrieved. Make sure you are allowed to download training/validation files\n",
      "File file-7aX3oOqATaR0RF4F5flOuT8s could not be retrieved. Make sure you are allowed to download training/validation files\n",
      "\u001b[34m\u001b[1mwandb\u001b[0m: Waiting for W&B process to finish... \u001b[32m(success).\u001b[0m\n",
      "\u001b[34m\u001b[1mwandb\u001b[0m:                                                                                \n",
      "\u001b[34m\u001b[1mwandb\u001b[0m: \n",
      "\u001b[34m\u001b[1mwandb\u001b[0m: Run history:\n",
      "\u001b[34m\u001b[1mwandb\u001b[0m:          classification/accuracy ▄█▁▃\n",
      "\u001b[34m\u001b[1mwandb\u001b[0m: classification/weighted_f1_score ▁█▅▇\n",
      "\u001b[34m\u001b[1mwandb\u001b[0m:                 elapsed_examples ▁▁▁▂▂▂▂▂▂▃▃▃▃▃▃▄▄▄▄▄▅▅▅▅▅▅▆▆▆▆▆▇▇▇▇▇▇███\n",
      "\u001b[34m\u001b[1mwandb\u001b[0m:                   elapsed_tokens ▁▁▁▂▂▂▂▂▂▃▃▃▃▃▃▄▄▄▄▄▅▅▅▅▅▅▆▆▆▆▆▇▇▇▇▇▇███\n",
      "\u001b[34m\u001b[1mwandb\u001b[0m:                    training_loss ▄█▄▄▂▂▂▃▂▂▂▂▂▂▂▂▂▂▂▂▂▂▂▂▂▁▂▁▁▁▂▁▂▂▂▂▁▁▂▁\n",
      "\u001b[34m\u001b[1mwandb\u001b[0m:       training_sequence_accuracy ▁▁▃▆█▆▇▇▆███▇██████▇██▇█████████████████\n",
      "\u001b[34m\u001b[1mwandb\u001b[0m:          training_token_accuracy ▁▁▃▆█▆▇▇▆███▇██████▇██▇█████████████████\n",
      "\u001b[34m\u001b[1mwandb\u001b[0m:                  validation_loss ▄▁▅▃▅▂▁▅▂▃▂▃▃▃▂▃▁▃▂▃▂▃▂▂▃▃█▃▂▅▁▄▄▃▅▃▂█▃▅\n",
      "\u001b[34m\u001b[1mwandb\u001b[0m:     validation_sequence_accuracy ▁▁▁▁▁▁▁▁▁▁▁▁▁▁▁▁▁▁▁▁▁▁▁▁▁▁▁▁▁▁▁▁▁▁▁▁▁▁▁▁\n",
      "\u001b[34m\u001b[1mwandb\u001b[0m:        validation_token_accuracy ▁▁▁▁▁▁▁▁▁▁▁▁▁▁▁▁▁▁▁▁▁▁▁▁▁▁▁▁▁▁▁▁▁▁▁▁▁▁▁▁\n",
      "\u001b[34m\u001b[1mwandb\u001b[0m: \n",
      "\u001b[34m\u001b[1mwandb\u001b[0m: Run summary:\n",
      "\u001b[34m\u001b[1mwandb\u001b[0m:          classification/accuracy 0.02727\n",
      "\u001b[34m\u001b[1mwandb\u001b[0m: classification/weighted_f1_score 0.02226\n",
      "\u001b[34m\u001b[1mwandb\u001b[0m:                 elapsed_examples 34496.0\n",
      "\u001b[34m\u001b[1mwandb\u001b[0m:                   elapsed_tokens 1485376.0\n",
      "\u001b[34m\u001b[1mwandb\u001b[0m:                 fine_tuned_model curie:ft-personal-20...\n",
      "\u001b[34m\u001b[1mwandb\u001b[0m:                           status succeeded\n",
      "\u001b[34m\u001b[1mwandb\u001b[0m:                    training_loss 0.04785\n",
      "\u001b[34m\u001b[1mwandb\u001b[0m:       training_sequence_accuracy 1.0\n",
      "\u001b[34m\u001b[1mwandb\u001b[0m:          training_token_accuracy 1.0\n",
      "\u001b[34m\u001b[1mwandb\u001b[0m:                  validation_loss 0.74967\n",
      "\u001b[34m\u001b[1mwandb\u001b[0m:     validation_sequence_accuracy 0.0\n",
      "\u001b[34m\u001b[1mwandb\u001b[0m:        validation_token_accuracy 0.0\n",
      "\u001b[34m\u001b[1mwandb\u001b[0m: \n",
      "\u001b[34m\u001b[1mwandb\u001b[0m: Synced \u001b[33mft-tz7iA9qmnCHpX2lmqBNYqhkC\u001b[0m: \u001b[34m\u001b[4mhttps://wandb.ai/nsoma/GPT-3/runs/ft-tz7iA9qmnCHpX2lmqBNYqhkC\u001b[0m\n",
      "\u001b[34m\u001b[1mwandb\u001b[0m: Synced 5 W&B file(s), 0 media file(s), 1 artifact file(s) and 0 other file(s)\n",
      "\u001b[34m\u001b[1mwandb\u001b[0m: Find logs at: \u001b[35m\u001b[1m./wandb/run-20220517_132647-ft-tz7iA9qmnCHpX2lmqBNYqhkC/logs\u001b[0m\n",
      "🎉 wandb sync completed successfully\n"
     ]
    }
   ],
   "source": [
    "!openai wandb sync"
   ]
  },
  {
   "cell_type": "code",
   "execution_count": 240,
   "id": "ac8bd079",
   "metadata": {},
   "outputs": [
    {
     "data": {
      "text/html": [
       "<div>\n",
       "<style scoped>\n",
       "    .dataframe tbody tr th:only-of-type {\n",
       "        vertical-align: middle;\n",
       "    }\n",
       "\n",
       "    .dataframe tbody tr th {\n",
       "        vertical-align: top;\n",
       "    }\n",
       "\n",
       "    .dataframe thead th {\n",
       "        text-align: right;\n",
       "    }\n",
       "</style>\n",
       "<table border=\"1\" class=\"dataframe\">\n",
       "  <thead>\n",
       "    <tr style=\"text-align: right;\">\n",
       "      <th></th>\n",
       "      <th>text</th>\n",
       "      <th>intent</th>\n",
       "      <th>ds_name</th>\n",
       "    </tr>\n",
       "  </thead>\n",
       "  <tbody>\n",
       "    <tr>\n",
       "      <th>13204</th>\n",
       "      <td>i would like to get help from someone with act...</td>\n",
       "      <td>activate_my_card</td>\n",
       "      <td>test</td>\n",
       "    </tr>\n",
       "    <tr>\n",
       "      <th>13211</th>\n",
       "      <td>i got 2 transfer fees and i thought transfers ...</td>\n",
       "      <td>transfer_fee_charged</td>\n",
       "      <td>test</td>\n",
       "    </tr>\n",
       "    <tr>\n",
       "      <th>13225</th>\n",
       "      <td>i was wondering if there were any discounts of...</td>\n",
       "      <td>exchange_charge</td>\n",
       "      <td>test</td>\n",
       "    </tr>\n",
       "    <tr>\n",
       "      <th>13232</th>\n",
       "      <td>why is there a random withdrawal in my app?</td>\n",
       "      <td>cash_withdrawal_not_recognised</td>\n",
       "      <td>test</td>\n",
       "    </tr>\n",
       "    <tr>\n",
       "      <th>13239</th>\n",
       "      <td>i don't live in the uk.  can i still get a card?</td>\n",
       "      <td>country_support</td>\n",
       "      <td>test</td>\n",
       "    </tr>\n",
       "  </tbody>\n",
       "</table>\n",
       "</div>"
      ],
      "text/plain": [
       "                                                    text  ... ds_name\n",
       "13204  i would like to get help from someone with act...  ...    test\n",
       "13211  i got 2 transfer fees and i thought transfers ...  ...    test\n",
       "13225  i was wondering if there were any discounts of...  ...    test\n",
       "13232        why is there a random withdrawal in my app?  ...    test\n",
       "13239   i don't live in the uk.  can i still get a card?  ...    test\n",
       "\n",
       "[5 rows x 3 columns]"
      ]
     },
     "execution_count": 240,
     "metadata": {},
     "output_type": "execute_result"
    }
   ],
   "source": [
    "full_test_set.tail(5)"
   ]
  },
  {
   "cell_type": "code",
   "execution_count": 241,
   "id": "dace5bfc",
   "metadata": {},
   "outputs": [
    {
     "data": {
      "text/plain": [
       "<OpenAIObject text_completion id=cmpl-58pi1iKbCPDuKh6gsMROb5eprxEyu at 0x7feed898d810> JSON: {\n",
       "  \"choices\": [\n",
       "    {\n",
       "      \"finish_reason\": \"length\",\n",
       "      \"index\": 0,\n",
       "      \"logprobs\": null,\n",
       "      \"text\": \" 25\"\n",
       "    }\n",
       "  ],\n",
       "  \"created\": 1652787077,\n",
       "  \"id\": \"cmpl-58pi1iKbCPDuKh6gsMROb5eprxEyu\",\n",
       "  \"model\": \"curie:ft-personal-2022-05-17-08-01-36\",\n",
       "  \"object\": \"text_completion\"\n",
       "}"
      ]
     },
     "execution_count": 241,
     "metadata": {},
     "output_type": "execute_result"
    }
   ],
   "source": [
    "def classify_finetuned(text):\n",
    "\n",
    "    result = openai.Completion.create(\n",
    "        model=\"curie:ft-personal-2022-05-17-08-01-36\",\n",
    "        prompt=text + \" ->\",\n",
    "        max_tokens=1\n",
    "    )\n",
    "        \n",
    "    return result\n",
    "\n",
    "\n",
    "classify_finetuned(\"i don't live in the uk. can i still get a card?\")"
   ]
  },
  {
   "cell_type": "code",
   "execution_count": 242,
   "id": "a7737401",
   "metadata": {},
   "outputs": [
    {
     "data": {
      "text/plain": [
       "'country_support'"
      ]
     },
     "execution_count": 242,
     "metadata": {},
     "output_type": "execute_result"
    }
   ],
   "source": [
    "pred_to_label(\" 25\")"
   ]
  },
  {
   "cell_type": "code",
   "execution_count": null,
   "id": "743cc540",
   "metadata": {},
   "outputs": [],
   "source": [
    "# prediction_responses = []"
   ]
  },
  {
   "cell_type": "code",
   "execution_count": 268,
   "id": "487909e8",
   "metadata": {},
   "outputs": [],
   "source": [
    "from openai.error import RateLimitError"
   ]
  },
  {
   "cell_type": "code",
   "execution_count": 269,
   "id": "1cd8f519",
   "metadata": {},
   "outputs": [
    {
     "name": "stderr",
     "output_type": "stream",
     "text": [
      "0it [00:16, ?it/s]\n"
     ]
    },
    {
     "ename": "RateLimitError",
     "evalue": "The server is currently overloaded with other requests. Sorry about that! You can retry your request, or contact support@openai.com if the error persists.",
     "output_type": "error",
     "traceback": [
      "\u001b[0;31m---------------------------------------------------------------------------\u001b[0m",
      "\u001b[0;31mRateLimitError\u001b[0m                            Traceback (most recent call last)",
      "Input \u001b[0;32mIn [269]\u001b[0m, in \u001b[0;36m<cell line: 3>\u001b[0;34m()\u001b[0m\n\u001b[1;32m      4\u001b[0m text \u001b[38;5;241m=\u001b[39m rec\u001b[38;5;241m.\u001b[39mtext\n\u001b[1;32m      5\u001b[0m orig_intent \u001b[38;5;241m=\u001b[39m rec\u001b[38;5;241m.\u001b[39mintent\n\u001b[0;32m----> 7\u001b[0m pred_response \u001b[38;5;241m=\u001b[39m \u001b[43mclassify_finetuned\u001b[49m\u001b[43m(\u001b[49m\u001b[43mtext\u001b[49m\u001b[43m)\u001b[49m\n\u001b[1;32m      8\u001b[0m sleep(\u001b[38;5;241m1.5\u001b[39m)\n\u001b[1;32m     10\u001b[0m prediction_responses\u001b[38;5;241m.\u001b[39mappend({\n\u001b[1;32m     11\u001b[0m     \u001b[38;5;124m\"\u001b[39m\u001b[38;5;124mquery_text\u001b[39m\u001b[38;5;124m\"\u001b[39m: text,\n\u001b[1;32m     12\u001b[0m     \u001b[38;5;124m\"\u001b[39m\u001b[38;5;124mtrue_intent\u001b[39m\u001b[38;5;124m\"\u001b[39m: orig_intent,\n\u001b[1;32m     13\u001b[0m     \u001b[38;5;124m\"\u001b[39m\u001b[38;5;124mpred_resp\u001b[39m\u001b[38;5;124m\"\u001b[39m: pred_response\n\u001b[1;32m     14\u001b[0m })\n",
      "Input \u001b[0;32mIn [241]\u001b[0m, in \u001b[0;36mclassify_finetuned\u001b[0;34m(text)\u001b[0m\n\u001b[1;32m      1\u001b[0m \u001b[38;5;28;01mdef\u001b[39;00m \u001b[38;5;21mclassify_finetuned\u001b[39m(text):\n\u001b[0;32m----> 3\u001b[0m     result \u001b[38;5;241m=\u001b[39m \u001b[43mopenai\u001b[49m\u001b[38;5;241;43m.\u001b[39;49m\u001b[43mCompletion\u001b[49m\u001b[38;5;241;43m.\u001b[39;49m\u001b[43mcreate\u001b[49m\u001b[43m(\u001b[49m\n\u001b[1;32m      4\u001b[0m \u001b[43m        \u001b[49m\u001b[43mmodel\u001b[49m\u001b[38;5;241;43m=\u001b[39;49m\u001b[38;5;124;43m\"\u001b[39;49m\u001b[38;5;124;43mcurie:ft-personal-2022-05-17-08-01-36\u001b[39;49m\u001b[38;5;124;43m\"\u001b[39;49m\u001b[43m,\u001b[49m\n\u001b[1;32m      5\u001b[0m \u001b[43m        \u001b[49m\u001b[43mprompt\u001b[49m\u001b[38;5;241;43m=\u001b[39;49m\u001b[43mtext\u001b[49m\u001b[43m \u001b[49m\u001b[38;5;241;43m+\u001b[39;49m\u001b[43m \u001b[49m\u001b[38;5;124;43m\"\u001b[39;49m\u001b[38;5;124;43m ->\u001b[39;49m\u001b[38;5;124;43m\"\u001b[39;49m\u001b[43m,\u001b[49m\n\u001b[1;32m      6\u001b[0m \u001b[43m        \u001b[49m\u001b[43mmax_tokens\u001b[49m\u001b[38;5;241;43m=\u001b[39;49m\u001b[38;5;241;43m1\u001b[39;49m\n\u001b[1;32m      7\u001b[0m \u001b[43m    \u001b[49m\u001b[43m)\u001b[49m\n\u001b[1;32m      9\u001b[0m     \u001b[38;5;28;01mreturn\u001b[39;00m result\n",
      "File \u001b[0;32m~/Library/Caches/pypoetry/virtualenvs/intent-detection-sBxw7ymE-py3.8/lib/python3.8/site-packages/openai/api_resources/completion.py:31\u001b[0m, in \u001b[0;36mCompletion.create\u001b[0;34m(cls, *args, **kwargs)\u001b[0m\n\u001b[1;32m     29\u001b[0m \u001b[38;5;28;01mwhile\u001b[39;00m \u001b[38;5;28;01mTrue\u001b[39;00m:\n\u001b[1;32m     30\u001b[0m     \u001b[38;5;28;01mtry\u001b[39;00m:\n\u001b[0;32m---> 31\u001b[0m         \u001b[38;5;28;01mreturn\u001b[39;00m \u001b[38;5;28;43msuper\u001b[39;49m\u001b[43m(\u001b[49m\u001b[43m)\u001b[49m\u001b[38;5;241;43m.\u001b[39;49m\u001b[43mcreate\u001b[49m\u001b[43m(\u001b[49m\u001b[38;5;241;43m*\u001b[39;49m\u001b[43margs\u001b[49m\u001b[43m,\u001b[49m\u001b[43m \u001b[49m\u001b[38;5;241;43m*\u001b[39;49m\u001b[38;5;241;43m*\u001b[39;49m\u001b[43mkwargs\u001b[49m\u001b[43m)\u001b[49m\n\u001b[1;32m     32\u001b[0m     \u001b[38;5;28;01mexcept\u001b[39;00m TryAgain \u001b[38;5;28;01mas\u001b[39;00m e:\n\u001b[1;32m     33\u001b[0m         \u001b[38;5;28;01mif\u001b[39;00m timeout \u001b[38;5;129;01mis\u001b[39;00m \u001b[38;5;129;01mnot\u001b[39;00m \u001b[38;5;28;01mNone\u001b[39;00m \u001b[38;5;129;01mand\u001b[39;00m time\u001b[38;5;241m.\u001b[39mtime() \u001b[38;5;241m>\u001b[39m start \u001b[38;5;241m+\u001b[39m timeout:\n",
      "File \u001b[0;32m~/Library/Caches/pypoetry/virtualenvs/intent-detection-sBxw7ymE-py3.8/lib/python3.8/site-packages/openai/api_resources/abstract/engine_api_resource.py:100\u001b[0m, in \u001b[0;36mEngineAPIResource.create\u001b[0;34m(cls, api_key, api_base, api_type, request_id, api_version, organization, **params)\u001b[0m\n\u001b[1;32m     92\u001b[0m requestor \u001b[38;5;241m=\u001b[39m api_requestor\u001b[38;5;241m.\u001b[39mAPIRequestor(\n\u001b[1;32m     93\u001b[0m     api_key,\n\u001b[1;32m     94\u001b[0m     api_base\u001b[38;5;241m=\u001b[39mapi_base,\n\u001b[0;32m   (...)\u001b[0m\n\u001b[1;32m     97\u001b[0m     organization\u001b[38;5;241m=\u001b[39morganization,\n\u001b[1;32m     98\u001b[0m )\n\u001b[1;32m     99\u001b[0m url \u001b[38;5;241m=\u001b[39m \u001b[38;5;28mcls\u001b[39m\u001b[38;5;241m.\u001b[39mclass_url(engine, api_type, api_version)\n\u001b[0;32m--> 100\u001b[0m response, _, api_key \u001b[38;5;241m=\u001b[39m \u001b[43mrequestor\u001b[49m\u001b[38;5;241;43m.\u001b[39;49m\u001b[43mrequest\u001b[49m\u001b[43m(\u001b[49m\n\u001b[1;32m    101\u001b[0m \u001b[43m    \u001b[49m\u001b[38;5;124;43m\"\u001b[39;49m\u001b[38;5;124;43mpost\u001b[39;49m\u001b[38;5;124;43m\"\u001b[39;49m\u001b[43m,\u001b[49m\n\u001b[1;32m    102\u001b[0m \u001b[43m    \u001b[49m\u001b[43murl\u001b[49m\u001b[43m,\u001b[49m\n\u001b[1;32m    103\u001b[0m \u001b[43m    \u001b[49m\u001b[43mparams\u001b[49m\u001b[38;5;241;43m=\u001b[39;49m\u001b[43mparams\u001b[49m\u001b[43m,\u001b[49m\n\u001b[1;32m    104\u001b[0m \u001b[43m    \u001b[49m\u001b[43mheaders\u001b[49m\u001b[38;5;241;43m=\u001b[39;49m\u001b[43mheaders\u001b[49m\u001b[43m,\u001b[49m\n\u001b[1;32m    105\u001b[0m \u001b[43m    \u001b[49m\u001b[43mstream\u001b[49m\u001b[38;5;241;43m=\u001b[39;49m\u001b[43mstream\u001b[49m\u001b[43m,\u001b[49m\n\u001b[1;32m    106\u001b[0m \u001b[43m    \u001b[49m\u001b[43mrequest_id\u001b[49m\u001b[38;5;241;43m=\u001b[39;49m\u001b[43mrequest_id\u001b[49m\u001b[43m,\u001b[49m\n\u001b[1;32m    107\u001b[0m \u001b[43m\u001b[49m\u001b[43m)\u001b[49m\n\u001b[1;32m    109\u001b[0m \u001b[38;5;28;01mif\u001b[39;00m stream:\n\u001b[1;32m    110\u001b[0m     \u001b[38;5;28;01massert\u001b[39;00m \u001b[38;5;129;01mnot\u001b[39;00m \u001b[38;5;28misinstance\u001b[39m(response, OpenAIResponse)  \u001b[38;5;66;03m# must be an iterator\u001b[39;00m\n",
      "File \u001b[0;32m~/Library/Caches/pypoetry/virtualenvs/intent-detection-sBxw7ymE-py3.8/lib/python3.8/site-packages/openai/api_requestor.py:120\u001b[0m, in \u001b[0;36mAPIRequestor.request\u001b[0;34m(self, method, url, params, headers, files, stream, request_id)\u001b[0m\n\u001b[1;32m    101\u001b[0m \u001b[38;5;28;01mdef\u001b[39;00m \u001b[38;5;21mrequest\u001b[39m(\n\u001b[1;32m    102\u001b[0m     \u001b[38;5;28mself\u001b[39m,\n\u001b[1;32m    103\u001b[0m     method,\n\u001b[0;32m   (...)\u001b[0m\n\u001b[1;32m    109\u001b[0m     request_id: Optional[\u001b[38;5;28mstr\u001b[39m] \u001b[38;5;241m=\u001b[39m \u001b[38;5;28;01mNone\u001b[39;00m,\n\u001b[1;32m    110\u001b[0m ) \u001b[38;5;241m-\u001b[39m\u001b[38;5;241m>\u001b[39m Tuple[Union[OpenAIResponse, Iterator[OpenAIResponse]], \u001b[38;5;28mbool\u001b[39m, \u001b[38;5;28mstr\u001b[39m]:\n\u001b[1;32m    111\u001b[0m     result \u001b[38;5;241m=\u001b[39m \u001b[38;5;28mself\u001b[39m\u001b[38;5;241m.\u001b[39mrequest_raw(\n\u001b[1;32m    112\u001b[0m         method\u001b[38;5;241m.\u001b[39mlower(),\n\u001b[1;32m    113\u001b[0m         url,\n\u001b[0;32m   (...)\u001b[0m\n\u001b[1;32m    118\u001b[0m         request_id\u001b[38;5;241m=\u001b[39mrequest_id,\n\u001b[1;32m    119\u001b[0m     )\n\u001b[0;32m--> 120\u001b[0m     resp, got_stream \u001b[38;5;241m=\u001b[39m \u001b[38;5;28;43mself\u001b[39;49m\u001b[38;5;241;43m.\u001b[39;49m\u001b[43m_interpret_response\u001b[49m\u001b[43m(\u001b[49m\u001b[43mresult\u001b[49m\u001b[43m,\u001b[49m\u001b[43m \u001b[49m\u001b[43mstream\u001b[49m\u001b[43m)\u001b[49m\n\u001b[1;32m    121\u001b[0m     \u001b[38;5;28;01mreturn\u001b[39;00m resp, got_stream, \u001b[38;5;28mself\u001b[39m\u001b[38;5;241m.\u001b[39mapi_key\n",
      "File \u001b[0;32m~/Library/Caches/pypoetry/virtualenvs/intent-detection-sBxw7ymE-py3.8/lib/python3.8/site-packages/openai/api_requestor.py:327\u001b[0m, in \u001b[0;36mAPIRequestor._interpret_response\u001b[0;34m(self, result, stream)\u001b[0m\n\u001b[1;32m    319\u001b[0m     \u001b[38;5;28;01mreturn\u001b[39;00m (\n\u001b[1;32m    320\u001b[0m         \u001b[38;5;28mself\u001b[39m\u001b[38;5;241m.\u001b[39m_interpret_response_line(\n\u001b[1;32m    321\u001b[0m             line, result\u001b[38;5;241m.\u001b[39mstatus_code, result\u001b[38;5;241m.\u001b[39mheaders, stream\u001b[38;5;241m=\u001b[39m\u001b[38;5;28;01mTrue\u001b[39;00m\n\u001b[1;32m    322\u001b[0m         )\n\u001b[1;32m    323\u001b[0m         \u001b[38;5;28;01mfor\u001b[39;00m line \u001b[38;5;129;01min\u001b[39;00m parse_stream(result\u001b[38;5;241m.\u001b[39miter_lines())\n\u001b[1;32m    324\u001b[0m     ), \u001b[38;5;28;01mTrue\u001b[39;00m\n\u001b[1;32m    325\u001b[0m \u001b[38;5;28;01melse\u001b[39;00m:\n\u001b[1;32m    326\u001b[0m     \u001b[38;5;28;01mreturn\u001b[39;00m (\n\u001b[0;32m--> 327\u001b[0m         \u001b[38;5;28;43mself\u001b[39;49m\u001b[38;5;241;43m.\u001b[39;49m\u001b[43m_interpret_response_line\u001b[49m\u001b[43m(\u001b[49m\n\u001b[1;32m    328\u001b[0m \u001b[43m            \u001b[49m\u001b[43mresult\u001b[49m\u001b[38;5;241;43m.\u001b[39;49m\u001b[43mcontent\u001b[49m\u001b[43m,\u001b[49m\u001b[43m \u001b[49m\u001b[43mresult\u001b[49m\u001b[38;5;241;43m.\u001b[39;49m\u001b[43mstatus_code\u001b[49m\u001b[43m,\u001b[49m\u001b[43m \u001b[49m\u001b[43mresult\u001b[49m\u001b[38;5;241;43m.\u001b[39;49m\u001b[43mheaders\u001b[49m\u001b[43m,\u001b[49m\u001b[43m \u001b[49m\u001b[43mstream\u001b[49m\u001b[38;5;241;43m=\u001b[39;49m\u001b[38;5;28;43;01mFalse\u001b[39;49;00m\n\u001b[1;32m    329\u001b[0m \u001b[43m        \u001b[49m\u001b[43m)\u001b[49m,\n\u001b[1;32m    330\u001b[0m         \u001b[38;5;28;01mFalse\u001b[39;00m,\n\u001b[1;32m    331\u001b[0m     )\n",
      "File \u001b[0;32m~/Library/Caches/pypoetry/virtualenvs/intent-detection-sBxw7ymE-py3.8/lib/python3.8/site-packages/openai/api_requestor.py:360\u001b[0m, in \u001b[0;36mAPIRequestor._interpret_response_line\u001b[0;34m(self, rbody, rcode, rheaders, stream)\u001b[0m\n\u001b[1;32m    358\u001b[0m stream_error \u001b[38;5;241m=\u001b[39m stream \u001b[38;5;129;01mand\u001b[39;00m \u001b[38;5;124m\"\u001b[39m\u001b[38;5;124merror\u001b[39m\u001b[38;5;124m\"\u001b[39m \u001b[38;5;129;01min\u001b[39;00m resp\u001b[38;5;241m.\u001b[39mdata\n\u001b[1;32m    359\u001b[0m \u001b[38;5;28;01mif\u001b[39;00m stream_error \u001b[38;5;129;01mor\u001b[39;00m \u001b[38;5;129;01mnot\u001b[39;00m \u001b[38;5;241m200\u001b[39m \u001b[38;5;241m<\u001b[39m\u001b[38;5;241m=\u001b[39m rcode \u001b[38;5;241m<\u001b[39m \u001b[38;5;241m300\u001b[39m:\n\u001b[0;32m--> 360\u001b[0m     \u001b[38;5;28;01mraise\u001b[39;00m \u001b[38;5;28mself\u001b[39m\u001b[38;5;241m.\u001b[39mhandle_error_response(\n\u001b[1;32m    361\u001b[0m         rbody, rcode, resp\u001b[38;5;241m.\u001b[39mdata, rheaders, stream_error\u001b[38;5;241m=\u001b[39mstream_error\n\u001b[1;32m    362\u001b[0m     )\n\u001b[1;32m    363\u001b[0m \u001b[38;5;28;01mreturn\u001b[39;00m resp\n",
      "\u001b[0;31mRateLimitError\u001b[0m: The server is currently overloaded with other requests. Sorry about that! You can retry your request, or contact support@openai.com if the error persists."
     ]
    }
   ],
   "source": [
    "prediction_responses = prediction_responses\n",
    "\n",
    "for i, rec in tqdm(full_test_set.iloc[len(prediction_responses):].iterrows()):\n",
    "    text = rec.text\n",
    "    orig_intent = rec.intent\n",
    "    \n",
    "    pred_response = classify_finetuned(text)\n",
    "    sleep(1.5)\n",
    "    \n",
    "    prediction_responses.append({\n",
    "        \"query_text\": text,\n",
    "        \"true_intent\": orig_intent,\n",
    "        \"pred_resp\": pred_response\n",
    "    })"
   ]
  },
  {
   "cell_type": "code",
   "execution_count": 261,
   "id": "fd031dde",
   "metadata": {},
   "outputs": [
    {
     "data": {
      "text/plain": [
       "1077"
      ]
     },
     "execution_count": 261,
     "metadata": {},
     "output_type": "execute_result"
    }
   ],
   "source": [
    "len(prediction_responses)"
   ]
  },
  {
   "cell_type": "code",
   "execution_count": 270,
   "id": "b641c04a",
   "metadata": {},
   "outputs": [
    {
     "data": {
      "text/html": [
       "<div>\n",
       "<style scoped>\n",
       "    .dataframe tbody tr th:only-of-type {\n",
       "        vertical-align: middle;\n",
       "    }\n",
       "\n",
       "    .dataframe tbody tr th {\n",
       "        vertical-align: top;\n",
       "    }\n",
       "\n",
       "    .dataframe thead th {\n",
       "        text-align: right;\n",
       "    }\n",
       "</style>\n",
       "<table border=\"1\" class=\"dataframe\">\n",
       "  <thead>\n",
       "    <tr style=\"text-align: right;\">\n",
       "      <th></th>\n",
       "      <th>query_text</th>\n",
       "      <th>true_intent</th>\n",
       "      <th>pred_resp</th>\n",
       "      <th>pred_intent</th>\n",
       "    </tr>\n",
       "  </thead>\n",
       "  <tbody>\n",
       "    <tr>\n",
       "      <th>0</th>\n",
       "      <td>my card isn't working</td>\n",
       "      <td>card_not_working</td>\n",
       "      <td>{'id': 'cmpl-58pjY60nWtea0bbZIgEv3Duq0Jlxm', '...</td>\n",
       "      <td>card_not_working</td>\n",
       "    </tr>\n",
       "    <tr>\n",
       "      <th>1</th>\n",
       "      <td>after the transfer, the balance did not update.</td>\n",
       "      <td>balance_not_updated_after_bank_transfer</td>\n",
       "      <td>{'id': 'cmpl-58pjbjAymJFbybiEh3ALKJWMZF7bO', '...</td>\n",
       "      <td>balance_not_updated_after_bank_transfer</td>\n",
       "    </tr>\n",
       "    <tr>\n",
       "      <th>2</th>\n",
       "      <td>i tried to make a transfer to a beneficiary an...</td>\n",
       "      <td>beneficiary_not_allowed</td>\n",
       "      <td>{'id': 'cmpl-58pjdSChDeaLOxf3UY8y1K80VLeEh', '...</td>\n",
       "      <td>beneficiary_not_allowed</td>\n",
       "    </tr>\n",
       "    <tr>\n",
       "      <th>3</th>\n",
       "      <td>i would like to change my pin.</td>\n",
       "      <td>change_pin</td>\n",
       "      <td>{'id': 'cmpl-58pjfw5Rygevc8abw3o0sC0MsaldH', '...</td>\n",
       "      <td>change_pin</td>\n",
       "    </tr>\n",
       "    <tr>\n",
       "      <th>4</th>\n",
       "      <td>i need to make an immediate cancellation relat...</td>\n",
       "      <td>cancel_transfer</td>\n",
       "      <td>{'id': 'cmpl-58pjlMWgQOBV9pqPvKPbSYqSIULbO', '...</td>\n",
       "      <td>cancel_transfer</td>\n",
       "    </tr>\n",
       "  </tbody>\n",
       "</table>\n",
       "</div>"
      ],
      "text/plain": [
       "                                          query_text  ...                              pred_intent\n",
       "0                              my card isn't working  ...                         card_not_working\n",
       "1    after the transfer, the balance did not update.  ...  balance_not_updated_after_bank_transfer\n",
       "2  i tried to make a transfer to a beneficiary an...  ...                  beneficiary_not_allowed\n",
       "3                     i would like to change my pin.  ...                               change_pin\n",
       "4  i need to make an immediate cancellation relat...  ...                          cancel_transfer\n",
       "\n",
       "[5 rows x 4 columns]"
      ]
     },
     "execution_count": 270,
     "metadata": {},
     "output_type": "execute_result"
    }
   ],
   "source": [
    "res_df = pd.DataFrame(prediction_responses)\n",
    "res_df['true_intent'] = res_df['true_intent']\n",
    "res_df['pred_intent'] = res_df.pred_resp.apply(lambda x: pred_to_label(x['choices'][0]['text']))\n",
    "res_df.head()"
   ]
  },
  {
   "cell_type": "code",
   "execution_count": 272,
   "id": "144e57b7",
   "metadata": {},
   "outputs": [
    {
     "data": {
      "text/plain": [
       "0.9052924791086351"
      ]
     },
     "execution_count": 272,
     "metadata": {},
     "output_type": "execute_result"
    }
   ],
   "source": [
    "accuracy_score(res_df['true_intent'].tolist(), res_df['pred_intent'].tolist())"
   ]
  },
  {
   "cell_type": "code",
   "execution_count": 263,
   "id": "7c52afbc",
   "metadata": {},
   "outputs": [],
   "source": [
    "from collections import Counter"
   ]
  },
  {
   "cell_type": "code",
   "execution_count": 267,
   "id": "dd9005cc",
   "metadata": {},
   "outputs": [
    {
     "data": {
      "text/plain": [
       "Counter({'card_not_working': 18,\n",
       "         'balance_not_updated_after_bank_transfer': 12,\n",
       "         'beneficiary_not_allowed': 11,\n",
       "         'change_pin': 9,\n",
       "         'cancel_transfer': 13,\n",
       "         'transfer_timing': 10,\n",
       "         'top_up_limits': 18,\n",
       "         'exchange_charge': 16,\n",
       "         'terminate_account': 18,\n",
       "         'pending_card_payment': 13,\n",
       "         'virtual_card_not_working': 15,\n",
       "         'transfer_not_received_by_recipient': 13,\n",
       "         'receiving_money': 13,\n",
       "         'balance_not_updated_after_cheque_or_cash_deposit': 11,\n",
       "         'top_up_by_bank_transfer_charge': 14,\n",
       "         'activate_my_card': 16,\n",
       "         'card_payment_wrong_exchange_rate': 16,\n",
       "         'topping_up_by_card': 12,\n",
       "         'cash_withdrawal_charge': 19,\n",
       "         'card_linking': 17,\n",
       "         'contactless_not_working': 12,\n",
       "         'unable_to_verify_identity': 12,\n",
       "         'fiat_currency_support': 14,\n",
       "         'pending_cash_withdrawal': 8,\n",
       "         'card_arrival': 11,\n",
       "         'card_payment_not_recognised': 16,\n",
       "         'why_verify_identity': 15,\n",
       "         'pending_top_up': 16,\n",
       "         'order_physical_card': 16,\n",
       "         'pending_transfer': 14,\n",
       "         'wrong_exchange_rate_for_cash_withdrawal': 15,\n",
       "         'request_refund': 14,\n",
       "         'direct_debit_payment_not_recognised': 13,\n",
       "         'top_up_by_cash_or_cheque': 15,\n",
       "         'disposable_card_limits': 17,\n",
       "         'top_up_failed': 14,\n",
       "         'top_up_reverted': 18,\n",
       "         'automatic_top_up': 11,\n",
       "         'transaction_charged_twice': 11,\n",
       "         'getting_spare_card': 14,\n",
       "         'lost_or_stolen_phone': 14,\n",
       "         'reverted_card_payment?': 20,\n",
       "         'Refund_not_showing_up': 17,\n",
       "         'atm_support': 13,\n",
       "         'top_up_by_card_charge': 10,\n",
       "         'get_disposable_virtual_card': 15,\n",
       "         'exchange_via_app': 14,\n",
       "         'declined_transfer': 12,\n",
       "         'exchange_rate': 13,\n",
       "         'compromised_card': 11,\n",
       "         'extra_charge_on_statement': 18,\n",
       "         'lost_or_stolen_card': 16,\n",
       "         'passcode_forgotten': 13,\n",
       "         'pin_blocked': 13,\n",
       "         'card_payment_fee_charged': 14,\n",
       "         'card_swallowed': 13,\n",
       "         'verify_my_identity': 10,\n",
       "         'edit_personal_details': 18,\n",
       "         'card_delivery_estimate': 14,\n",
       "         'verify_source_of_funds': 10,\n",
       "         'transfer_into_account': 18,\n",
       "         'visa_or_mastercard': 17,\n",
       "         'cash_withdrawal_not_recognised': 14,\n",
       "         'card_acceptance': 12,\n",
       "         'getting_virtual_card': 9,\n",
       "         'transfer_fee_charged': 11,\n",
       "         'country_support': 12,\n",
       "         'wrong_amount_of_cash_received': 13,\n",
       "         'get_physical_card': 16,\n",
       "         'failed_transfer': 15,\n",
       "         'apple_pay_or_google_pay': 10,\n",
       "         'card_about_to_expire': 14,\n",
       "         'verify_top_up': 13,\n",
       "         'declined_cash_withdrawal': 14,\n",
       "         'declined_card_payment': 21,\n",
       "         'age_limit': 14,\n",
       "         'supported_cards_and_currencies': 16})"
      ]
     },
     "execution_count": 267,
     "metadata": {},
     "output_type": "execute_result"
    }
   ],
   "source": [
    "Counter([x['true_intent'] for x in prediction_responses])"
   ]
  },
  {
   "cell_type": "code",
   "execution_count": null,
   "id": "2f630204",
   "metadata": {},
   "outputs": [],
   "source": []
  }
 ],
 "metadata": {
  "kernelspec": {
   "display_name": "Python 3 (ipykernel)",
   "language": "python",
   "name": "python3"
  },
  "language_info": {
   "codemirror_mode": {
    "name": "ipython",
    "version": 3
   },
   "file_extension": ".py",
   "mimetype": "text/x-python",
   "name": "python",
   "nbconvert_exporter": "python",
   "pygments_lexer": "ipython3",
   "version": "3.8.5"
  }
 },
 "nbformat": 4,
 "nbformat_minor": 5
}
